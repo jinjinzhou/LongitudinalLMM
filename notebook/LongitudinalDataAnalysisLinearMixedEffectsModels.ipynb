{
 "cells": [
  {
   "cell_type": "code",
   "execution_count": null,
   "metadata": {
    "collapsed": true
   },
   "outputs": [],
   "source": [
    "# Analysis of Longitudinal Data Using Julia "
   ]
  },
  {
   "cell_type": "markdown",
   "metadata": {
    "nbpresent": {
     "id": "49731d96-4d09-45f2-abb0-3484962516d2"
    }
   },
   "source": [
    "Demo code presentation for teaching the lecture of longitudinal and mixed effects models (CPH684) at the department of epidemiology and biostatistics, University of Arizona. Lectures follow the book [**Applied Longitudinal Analysis, Fitzmaurice, Laird, and Ware**](http://www.wiley.com/WileyCDA/WileyTitle/productCd-0470380276.html).  Datasets can be found in their [website](https://www.hsph.harvard.edu/fitzmaur/ala/)."
   ]
  },
  {
   "cell_type": "code",
   "execution_count": 1,
   "metadata": {
    "collapsed": false,
    "nbpresent": {
     "id": "b246950a-cbb8-476c-8d45-09332496d15c"
    }
   },
   "outputs": [
    {
     "data": {
      "text/plain": [
       "\"/Users/jzhou/Google Drive/Teaching/CPH684/JinZhou-Fall16\""
      ]
     },
     "execution_count": 1,
     "metadata": {},
     "output_type": "execute_result"
    }
   ],
   "source": [
    "cd(\"/Users/jzhou/GoogleDriveNoSpace/Teaching/CPH684/JinZhou-Fall16/\")\n",
    "pwd()"
   ]
  },
  {
   "cell_type": "markdown",
   "metadata": {
    "nbpresent": {
     "id": "e4704d06-750f-4936-8f87-2de7af0918d6"
    }
   },
   "source": [
    "Machine information:"
   ]
  },
  {
   "cell_type": "code",
   "execution_count": 2,
   "metadata": {
    "collapsed": false,
    "nbpresent": {
     "id": "9bf3d030-3200-4607-8d73-28b0ed8f30bb"
    }
   },
   "outputs": [
    {
     "name": "stdout",
     "output_type": "stream",
     "text": [
      "Julia Version 0.5.0\n",
      "Commit 3c9d753 (2016-09-19 18:14 UTC)\n",
      "Platform Info:\n",
      "  System: Darwin (x86_64-apple-darwin13.4.0)\n",
      "  CPU: Intel(R) Core(TM) i7-3840QM CPU @ 2.80GHz\n",
      "  WORD_SIZE: 64\n",
      "  BLAS: libopenblas (USE64BITINT DYNAMIC_ARCH NO_AFFINITY Sandybridge)\n",
      "  LAPACK: libopenblas64_\n",
      "  LIBM: libopenlibm\n",
      "  LLVM: libLLVM-3.7.1 (ORCJIT, ivybridge)\n"
     ]
    },
    {
     "name": "stderr",
     "output_type": "stream",
     "text": [
      "INFO: Updating METADATA...\n",
      "INFO: Updating FreqTables master...\n",
      "INFO: Updating SnpArrays master...\n",
      "INFO: Updating VarianceComponentModels master...\n",
      "INFO: Computing changes...\n",
      "INFO: No packages to install, update or remove\n"
     ]
    }
   ],
   "source": [
    "versioninfo()\n",
    "#Pkg.update()"
   ]
  },
  {
   "cell_type": "markdown",
   "metadata": {
    "nbpresent": {
     "id": "02e1bef1-2ba8-49cc-8da2-f63c708849f5"
    }
   },
   "source": [
    "## Julia Intro"
   ]
  },
  {
   "cell_type": "markdown",
   "metadata": {
    "nbpresent": {
     "id": "4cdb2741-d9c1-43eb-b0f4-d1aca8b7b00e"
    }
   },
   "source": [
    "We will use [`DataFrames.jl`](https://github.com/JuliaStats/DataFrames.jl) package to perform data manipulation. "
   ]
  },
  {
   "cell_type": "code",
   "execution_count": 3,
   "metadata": {
    "collapsed": false,
    "nbpresent": {
     "id": "36e3a51d-81c3-4a8b-98b0-04b4fbc7a380"
    }
   },
   "outputs": [],
   "source": [
    "#Pkg.add(\"DataFrames\")\n",
    "using DataFrames"
   ]
  },
  {
   "cell_type": "code",
   "execution_count": 4,
   "metadata": {
    "collapsed": false,
    "nbpresent": {
     "id": "a287814c-0b33-4b4b-a643-4c8a02bbb6e9"
    }
   },
   "outputs": [
    {
     "data": {
      "text/html": [
       "<table class=\"data-frame\"><tr><th></th><th>weight</th><th>bmi</th><th>id</th><th>age</th><th>activity</th><th>education</th><th>smoking</th></tr><tr><th>1</th><td>198</td><td>24.8</td><td>9790</td><td>59.8</td><td>7528.3</td><td>17</td><td>0</td></tr><tr><th>2</th><td>198</td><td>30.9</td><td>4587</td><td>59.8</td><td>1558.2</td><td>12</td><td>0</td></tr><tr><th>3</th><td>196</td><td>24.9</td><td>4844</td><td>61.6</td><td>858.2</td><td>19</td><td>0</td></tr><tr><th>4</th><td>196</td><td>27.5</td><td>616</td><td>63.0</td><td>2552.0</td><td>16</td><td>0</td></tr><tr><th>5</th><td>157</td><td>24.4</td><td>6511</td><td>77.8</td><td>1470.0</td><td>16</td><td>0</td></tr><tr><th>6</th><td>142</td><td>20.1</td><td>9972</td><td>62.6</td><td>1138.0</td><td>19</td><td>0</td></tr><tr><th>7</th><td>245</td><td>32.8</td><td>8911</td><td>68.7</td><td>2310.0</td><td>16</td><td>0</td></tr><tr><th>8</th><td>148</td><td>21.6</td><td>9173</td><td>72.2</td><td>3133.4</td><td>16</td><td>0</td></tr><tr><th>9</th><td>176</td><td>23.1</td><td>9783</td><td>68.2</td><td>2007.7</td><td>16</td><td>0</td></tr><tr><th>10</th><td>161</td><td>22.6</td><td>9843</td><td>74.3</td><td>1686.3</td><td>13</td><td>0</td></tr><tr><th>11</th><td>234</td><td>33.0</td><td>4097</td><td>61.5</td><td>1747.3</td><td>16</td><td>0</td></tr><tr><th>12</th><td>192</td><td>26.1</td><td>7623</td><td>72.5</td><td>2604.0</td><td>16</td><td>0</td></tr><tr><th>13</th><td>196</td><td>26.8</td><td>6667</td><td>67.1</td><td>3440.7</td><td>18</td><td>0</td></tr><tr><th>14</th><td>172</td><td>26.9</td><td>241</td><td>79.3</td><td>686.0</td><td>12</td><td>0</td></tr><tr><th>15</th><td>159</td><td>27.1</td><td>2348</td><td>63.4</td><td>5209.3</td><td>16</td><td>0</td></tr><tr><th>16</th><td>180</td><td>25.9</td><td>1343</td><td>71.0</td><td>1542.7</td><td>15</td><td>0</td></tr><tr><th>17</th><td>191</td><td>28.8</td><td>6764</td><td>74.8</td><td>2263.3</td><td>16</td><td>0</td></tr><tr><th>18</th><td>174</td><td>24.2</td><td>5566</td><td>56.7</td><td>2516.0</td><td>16</td><td>0</td></tr><tr><th>19</th><td>175</td><td>26.5</td><td>8034</td><td>64.6</td><td>6818.0</td><td>12</td><td>0</td></tr><tr><th>20</th><td>142</td><td>20.7</td><td>7902</td><td>72.1</td><td>2318.7</td><td>18</td><td>0</td></tr><tr><th>21</th><td>200</td><td>26.1</td><td>8642</td><td>76.0</td><td>3283.5</td><td>12</td><td>1</td></tr><tr><th>22</th><td>186</td><td>24.5</td><td>556</td><td>56.9</td><td>364.6</td><td>14</td><td>0</td></tr><tr><th>23</th><td>184</td><td>25.3</td><td>6373</td><td>70.8</td><td>1089.5</td><td>19</td><td>0</td></tr><tr><th>24</th><td>160</td><td>24.9</td><td>7882</td><td>69.1</td><td>3592.7</td><td>16</td><td>0</td></tr><tr><th>25</th><td>181</td><td>25.8</td><td>9973</td><td>78.7</td><td>588.0</td><td>12</td><td>0</td></tr><tr><th>26</th><td>180</td><td>28.6</td><td>9777</td><td>68.0</td><td>732.7</td><td>18</td><td>0</td></tr><tr><th>27</th><td>194</td><td>27.4</td><td>6269</td><td>75.1</td><td>884.7</td><td>16</td><td>0</td></tr><tr><th>28</th><td>170</td><td>23.3</td><td>1389</td><td>61.9</td><td>5247.0</td><td>18</td><td>0</td></tr><tr><th>29</th><td>180</td><td>26.9</td><td>6746</td><td>73.7</td><td>2318.0</td><td>10</td><td>0</td></tr><tr><th>30</th><td>190</td><td>25.5</td><td>6564</td><td>75.7</td><td>2156.0</td><td>12</td><td>0</td></tr><tr><th>&vellip;</th><td>&vellip;</td><td>&vellip;</td><td>&vellip;</td><td>&vellip;</td><td>&vellip;</td><td>&vellip;</td><td>&vellip;</td></tr></table>"
      ],
      "text/plain": [
       "400×7 DataFrames.DataFrame\n",
       "│ Row │ weight │ bmi  │ id   │ age  │ activity │ education │ smoking │\n",
       "├─────┼────────┼──────┼──────┼──────┼──────────┼───────────┼─────────┤\n",
       "│ 1   │ 198    │ 24.8 │ 9790 │ 59.8 │ 7528.3   │ 17        │ 0       │\n",
       "│ 2   │ 198    │ 30.9 │ 4587 │ 59.8 │ 1558.2   │ 12        │ 0       │\n",
       "│ 3   │ 196    │ 24.9 │ 4844 │ 61.6 │ 858.2    │ 19        │ 0       │\n",
       "│ 4   │ 196    │ 27.5 │ 616  │ 63.0 │ 2552.0   │ 16        │ 0       │\n",
       "│ 5   │ 157    │ 24.4 │ 6511 │ 77.8 │ 1470.0   │ 16        │ 0       │\n",
       "│ 6   │ 142    │ 20.1 │ 9972 │ 62.6 │ 1138.0   │ 19        │ 0       │\n",
       "│ 7   │ 245    │ 32.8 │ 8911 │ 68.7 │ 2310.0   │ 16        │ 0       │\n",
       "│ 8   │ 148    │ 21.6 │ 9173 │ 72.2 │ 3133.4   │ 16        │ 0       │\n",
       "│ 9   │ 176    │ 23.1 │ 9783 │ 68.2 │ 2007.7   │ 16        │ 0       │\n",
       "│ 10  │ 161    │ 22.6 │ 9843 │ 74.3 │ 1686.3   │ 13        │ 0       │\n",
       "│ 11  │ 234    │ 33.0 │ 4097 │ 61.5 │ 1747.3   │ 16        │ 0       │\n",
       "⋮\n",
       "│ 389 │ 190    │ 25.9 │ 2869 │ 59.3 │ 3016.7   │ 12        │ 0       │\n",
       "│ 390 │ 219    │ 30.1 │ 9751 │ 60.7 │ 947.4    │ 15        │ 0       │\n",
       "│ 391 │ 169    │ 25.6 │ 7401 │ 70.2 │ 3094.3   │ 12        │ 0       │\n",
       "│ 392 │ 216    │ 26.9 │ 1104 │ 69.1 │ 2703.0   │ 16        │ 0       │\n",
       "│ 393 │ 186    │ 26.7 │ 9982 │ 55.2 │ 4875.3   │ 12        │ 0       │\n",
       "│ 394 │ 175    │ 27.3 │ 2454 │ 66.5 │ 411.6    │ 6         │ 0       │\n",
       "│ 395 │ 175    │ 26.2 │ 985  │ 57.4 │ 1983.0   │ 12        │ 0       │\n",
       "│ 396 │ 188    │ 27.6 │ 2268 │ 52.4 │ 569.1    │ 13        │ 1       │\n",
       "│ 397 │ 188    │ 28.2 │ 8489 │ 74.9 │ 674.4    │ 12        │ 0       │\n",
       "│ 398 │ 170    │ 24.0 │ 8279 │ 56.0 │ 767.2    │ 12        │ 0       │\n",
       "│ 399 │ 179    │ 26.2 │ 3605 │ 63.0 │ 3468.1   │ 20        │ 0       │\n",
       "│ 400 │ 192    │ 24.0 │ 6524 │ 54.6 │ 985.0    │ 17        │ 0       │"
      ]
     },
     "execution_count": 4,
     "metadata": {},
     "output_type": "execute_result"
    }
   ],
   "source": [
    "mydata = readtable(\"./Lec3-IntroSAS-R/Example/sasintro.txt\",separator = ' ',header=false)\n",
    "cnames = [\"weight\", \"bmi\",  \"id\" , \"age\" , \"activity\",  \"education\",  \"smoking\"]\n",
    "names!(mydata, [Symbol(cnames[i]) for i in 1:7])"
   ]
  },
  {
   "cell_type": "code",
   "execution_count": 5,
   "metadata": {
    "collapsed": false,
    "nbpresent": {
     "id": "a839404d-363f-4fa5-aa18-4e9c1f2c68ae"
    }
   },
   "outputs": [
    {
     "data": {
      "text/html": [
       "<table class=\"data-frame\"><tr><th></th><th>weight</th><th>bmi</th><th>id</th><th>age</th><th>activity</th><th>education</th><th>smoking</th></tr><tr><th>1</th><td>200</td><td>26.1</td><td>8642</td><td>76.0</td><td>3283.5</td><td>12</td><td>1</td></tr><tr><th>2</th><td>196</td><td>27.1</td><td>9950</td><td>74.7</td><td>1509.2</td><td>12</td><td>1</td></tr><tr><th>3</th><td>179</td><td>24.1</td><td>4717</td><td>61.6</td><td>227.4</td><td>16</td><td>1</td></tr><tr><th>4</th><td>194</td><td>31.1</td><td>1319</td><td>70.4</td><td>4410.2</td><td>16</td><td>1</td></tr><tr><th>5</th><td>200</td><td>29.1</td><td>9449</td><td>68.9</td><td>2367.0</td><td>18</td><td>1</td></tr><tr><th>6</th><td>190</td><td>25.4</td><td>9529</td><td>71.5</td><td>3069.0</td><td>14</td><td>1</td></tr><tr><th>7</th><td>172</td><td>24.9</td><td>7171</td><td>73.9</td><td>2613.3</td><td>16</td><td>1</td></tr><tr><th>8</th><td>229</td><td>29.0</td><td>4005</td><td>68.5</td><td>2914.5</td><td>12</td><td>1</td></tr><tr><th>9</th><td>188</td><td>27.6</td><td>6305</td><td>67.8</td><td>1226.0</td><td>12</td><td>1</td></tr><tr><th>10</th><td>135</td><td>21.6</td><td>5893</td><td>69.3</td><td>586.7</td><td>12</td><td>1</td></tr><tr><th>11</th><td>177</td><td>24.1</td><td>4617</td><td>65.9</td><td>1025.1</td><td>16</td><td>1</td></tr><tr><th>12</th><td>199</td><td>25.9</td><td>7234</td><td>58.8</td><td>1849.3</td><td>17</td><td>1</td></tr><tr><th>13</th><td>218</td><td>31.3</td><td>5785</td><td>65.7</td><td>601.2</td><td>14</td><td>1</td></tr><tr><th>14</th><td>184</td><td>26.1</td><td>609</td><td>64.7</td><td>614.2</td><td>16</td><td>1</td></tr><tr><th>15</th><td>220</td><td>31.2</td><td>2048</td><td>69.3</td><td>1200.8</td><td>15</td><td>1</td></tr><tr><th>16</th><td>162</td><td>22.9</td><td>8468</td><td>63.1</td><td>196.0</td><td>14</td><td>1</td></tr><tr><th>17</th><td>208</td><td>26.0</td><td>4681</td><td>61.5</td><td>3259.5</td><td>18</td><td>1</td></tr><tr><th>18</th><td>172</td><td>24.1</td><td>5716</td><td>57.0</td><td>2803.7</td><td>13</td><td>1</td></tr><tr><th>19</th><td>153</td><td>22.7</td><td>8949</td><td>65.1</td><td>3478.7</td><td>12</td><td>1</td></tr><tr><th>20</th><td>226</td><td>31.6</td><td>774</td><td>58.5</td><td>336.3</td><td>12</td><td>1</td></tr><tr><th>21</th><td>181</td><td>26.1</td><td>5800</td><td>55.8</td><td>1341.3</td><td>16</td><td>1</td></tr><tr><th>22</th><td>151</td><td>23.9</td><td>6244</td><td>68.9</td><td>1200.5</td><td>8</td><td>1</td></tr><tr><th>23</th><td>216</td><td>30.8</td><td>7095</td><td>63.3</td><td>2678.7</td><td>16</td><td>1</td></tr><tr><th>24</th><td>170</td><td>27.1</td><td>1599</td><td>69.4</td><td>3485.3</td><td>12</td><td>1</td></tr><tr><th>25</th><td>206</td><td>29.0</td><td>6351</td><td>55.0</td><td>5152.3</td><td>12</td><td>1</td></tr><tr><th>26</th><td>163</td><td>24.6</td><td>5735</td><td>68.3</td><td>3016.0</td><td>14</td><td>1</td></tr><tr><th>27</th><td>188</td><td>27.6</td><td>2268</td><td>52.4</td><td>569.1</td><td>13</td><td>1</td></tr></table>"
      ],
      "text/plain": [
       "27×7 DataFrames.DataFrame\n",
       "│ Row │ weight │ bmi  │ id   │ age  │ activity │ education │ smoking │\n",
       "├─────┼────────┼──────┼──────┼──────┼──────────┼───────────┼─────────┤\n",
       "│ 1   │ 200    │ 26.1 │ 8642 │ 76.0 │ 3283.5   │ 12        │ 1       │\n",
       "│ 2   │ 196    │ 27.1 │ 9950 │ 74.7 │ 1509.2   │ 12        │ 1       │\n",
       "│ 3   │ 179    │ 24.1 │ 4717 │ 61.6 │ 227.4    │ 16        │ 1       │\n",
       "│ 4   │ 194    │ 31.1 │ 1319 │ 70.4 │ 4410.2   │ 16        │ 1       │\n",
       "│ 5   │ 200    │ 29.1 │ 9449 │ 68.9 │ 2367.0   │ 18        │ 1       │\n",
       "│ 6   │ 190    │ 25.4 │ 9529 │ 71.5 │ 3069.0   │ 14        │ 1       │\n",
       "│ 7   │ 172    │ 24.9 │ 7171 │ 73.9 │ 2613.3   │ 16        │ 1       │\n",
       "│ 8   │ 229    │ 29.0 │ 4005 │ 68.5 │ 2914.5   │ 12        │ 1       │\n",
       "│ 9   │ 188    │ 27.6 │ 6305 │ 67.8 │ 1226.0   │ 12        │ 1       │\n",
       "│ 10  │ 135    │ 21.6 │ 5893 │ 69.3 │ 586.7    │ 12        │ 1       │\n",
       "│ 11  │ 177    │ 24.1 │ 4617 │ 65.9 │ 1025.1   │ 16        │ 1       │\n",
       "⋮\n",
       "│ 16  │ 162    │ 22.9 │ 8468 │ 63.1 │ 196.0    │ 14        │ 1       │\n",
       "│ 17  │ 208    │ 26.0 │ 4681 │ 61.5 │ 3259.5   │ 18        │ 1       │\n",
       "│ 18  │ 172    │ 24.1 │ 5716 │ 57.0 │ 2803.7   │ 13        │ 1       │\n",
       "│ 19  │ 153    │ 22.7 │ 8949 │ 65.1 │ 3478.7   │ 12        │ 1       │\n",
       "│ 20  │ 226    │ 31.6 │ 774  │ 58.5 │ 336.3    │ 12        │ 1       │\n",
       "│ 21  │ 181    │ 26.1 │ 5800 │ 55.8 │ 1341.3   │ 16        │ 1       │\n",
       "│ 22  │ 151    │ 23.9 │ 6244 │ 68.9 │ 1200.5   │ 8         │ 1       │\n",
       "│ 23  │ 216    │ 30.8 │ 7095 │ 63.3 │ 2678.7   │ 16        │ 1       │\n",
       "│ 24  │ 170    │ 27.1 │ 1599 │ 69.4 │ 3485.3   │ 12        │ 1       │\n",
       "│ 25  │ 206    │ 29.0 │ 6351 │ 55.0 │ 5152.3   │ 12        │ 1       │\n",
       "│ 26  │ 163    │ 24.6 │ 5735 │ 68.3 │ 3016.0   │ 14        │ 1       │\n",
       "│ 27  │ 188    │ 27.6 │ 2268 │ 52.4 │ 569.1    │ 13        │ 1       │"
      ]
     },
     "execution_count": 5,
     "metadata": {},
     "output_type": "execute_result"
    }
   ],
   "source": [
    "#smoking people\n",
    "mydata[mydata[:smoking].==1,:]"
   ]
  },
  {
   "cell_type": "code",
   "execution_count": 6,
   "metadata": {
    "collapsed": false,
    "nbpresent": {
     "id": "8d8deab9-3346-4986-8ecd-9ba77d09a8ba"
    }
   },
   "outputs": [
    {
     "data": {
      "text/html": [
       "<table class=\"data-frame\"><tr><th></th><th>bmi</th><th>id</th><th>age</th><th>activity</th><th>smoking</th></tr><tr><th>1</th><td>24.8</td><td>9790</td><td>59.8</td><td>7528.3</td><td>0</td></tr><tr><th>2</th><td>30.9</td><td>4587</td><td>59.8</td><td>1558.2</td><td>0</td></tr><tr><th>3</th><td>24.9</td><td>4844</td><td>61.6</td><td>858.2</td><td>0</td></tr><tr><th>4</th><td>27.5</td><td>616</td><td>63.0</td><td>2552.0</td><td>0</td></tr><tr><th>5</th><td>24.4</td><td>6511</td><td>77.8</td><td>1470.0</td><td>0</td></tr><tr><th>6</th><td>20.1</td><td>9972</td><td>62.6</td><td>1138.0</td><td>0</td></tr><tr><th>7</th><td>32.8</td><td>8911</td><td>68.7</td><td>2310.0</td><td>0</td></tr><tr><th>8</th><td>21.6</td><td>9173</td><td>72.2</td><td>3133.4</td><td>0</td></tr><tr><th>9</th><td>23.1</td><td>9783</td><td>68.2</td><td>2007.7</td><td>0</td></tr><tr><th>10</th><td>22.6</td><td>9843</td><td>74.3</td><td>1686.3</td><td>0</td></tr><tr><th>11</th><td>33.0</td><td>4097</td><td>61.5</td><td>1747.3</td><td>0</td></tr><tr><th>12</th><td>26.1</td><td>7623</td><td>72.5</td><td>2604.0</td><td>0</td></tr><tr><th>13</th><td>26.8</td><td>6667</td><td>67.1</td><td>3440.7</td><td>0</td></tr><tr><th>14</th><td>26.9</td><td>241</td><td>79.3</td><td>686.0</td><td>0</td></tr><tr><th>15</th><td>27.1</td><td>2348</td><td>63.4</td><td>5209.3</td><td>0</td></tr><tr><th>16</th><td>25.9</td><td>1343</td><td>71.0</td><td>1542.7</td><td>0</td></tr><tr><th>17</th><td>28.8</td><td>6764</td><td>74.8</td><td>2263.3</td><td>0</td></tr><tr><th>18</th><td>24.2</td><td>5566</td><td>56.7</td><td>2516.0</td><td>0</td></tr><tr><th>19</th><td>26.5</td><td>8034</td><td>64.6</td><td>6818.0</td><td>0</td></tr><tr><th>20</th><td>20.7</td><td>7902</td><td>72.1</td><td>2318.7</td><td>0</td></tr><tr><th>21</th><td>26.1</td><td>8642</td><td>76.0</td><td>3283.5</td><td>1</td></tr><tr><th>22</th><td>24.5</td><td>556</td><td>56.9</td><td>364.6</td><td>0</td></tr><tr><th>23</th><td>25.3</td><td>6373</td><td>70.8</td><td>1089.5</td><td>0</td></tr><tr><th>24</th><td>24.9</td><td>7882</td><td>69.1</td><td>3592.7</td><td>0</td></tr><tr><th>25</th><td>25.8</td><td>9973</td><td>78.7</td><td>588.0</td><td>0</td></tr><tr><th>26</th><td>28.6</td><td>9777</td><td>68.0</td><td>732.7</td><td>0</td></tr><tr><th>27</th><td>27.4</td><td>6269</td><td>75.1</td><td>884.7</td><td>0</td></tr><tr><th>28</th><td>23.3</td><td>1389</td><td>61.9</td><td>5247.0</td><td>0</td></tr><tr><th>29</th><td>26.9</td><td>6746</td><td>73.7</td><td>2318.0</td><td>0</td></tr><tr><th>30</th><td>25.5</td><td>6564</td><td>75.7</td><td>2156.0</td><td>0</td></tr><tr><th>&vellip;</th><td>&vellip;</td><td>&vellip;</td><td>&vellip;</td><td>&vellip;</td><td>&vellip;</td></tr></table>"
      ],
      "text/plain": [
       "400×5 DataFrames.DataFrame\n",
       "│ Row │ bmi  │ id   │ age  │ activity │ smoking │\n",
       "├─────┼──────┼──────┼──────┼──────────┼─────────┤\n",
       "│ 1   │ 24.8 │ 9790 │ 59.8 │ 7528.3   │ 0       │\n",
       "│ 2   │ 30.9 │ 4587 │ 59.8 │ 1558.2   │ 0       │\n",
       "│ 3   │ 24.9 │ 4844 │ 61.6 │ 858.2    │ 0       │\n",
       "│ 4   │ 27.5 │ 616  │ 63.0 │ 2552.0   │ 0       │\n",
       "│ 5   │ 24.4 │ 6511 │ 77.8 │ 1470.0   │ 0       │\n",
       "│ 6   │ 20.1 │ 9972 │ 62.6 │ 1138.0   │ 0       │\n",
       "│ 7   │ 32.8 │ 8911 │ 68.7 │ 2310.0   │ 0       │\n",
       "│ 8   │ 21.6 │ 9173 │ 72.2 │ 3133.4   │ 0       │\n",
       "│ 9   │ 23.1 │ 9783 │ 68.2 │ 2007.7   │ 0       │\n",
       "│ 10  │ 22.6 │ 9843 │ 74.3 │ 1686.3   │ 0       │\n",
       "│ 11  │ 33.0 │ 4097 │ 61.5 │ 1747.3   │ 0       │\n",
       "⋮\n",
       "│ 389 │ 25.9 │ 2869 │ 59.3 │ 3016.7   │ 0       │\n",
       "│ 390 │ 30.1 │ 9751 │ 60.7 │ 947.4    │ 0       │\n",
       "│ 391 │ 25.6 │ 7401 │ 70.2 │ 3094.3   │ 0       │\n",
       "│ 392 │ 26.9 │ 1104 │ 69.1 │ 2703.0   │ 0       │\n",
       "│ 393 │ 26.7 │ 9982 │ 55.2 │ 4875.3   │ 0       │\n",
       "│ 394 │ 27.3 │ 2454 │ 66.5 │ 411.6    │ 0       │\n",
       "│ 395 │ 26.2 │ 985  │ 57.4 │ 1983.0   │ 0       │\n",
       "│ 396 │ 27.6 │ 2268 │ 52.4 │ 569.1    │ 1       │\n",
       "│ 397 │ 28.2 │ 8489 │ 74.9 │ 674.4    │ 0       │\n",
       "│ 398 │ 24.0 │ 8279 │ 56.0 │ 767.2    │ 0       │\n",
       "│ 399 │ 26.2 │ 3605 │ 63.0 │ 3468.1   │ 0       │\n",
       "│ 400 │ 24.0 │ 6524 │ 54.6 │ 985.0    │ 0       │"
      ]
     },
     "execution_count": 6,
     "metadata": {},
     "output_type": "execute_result"
    }
   ],
   "source": [
    "#drop column      \n",
    "# (1)\n",
    "mydata2 = mydata[~[(x in [:weight, :education]) for x in names(mydata)]]\n",
    "# (2)\n",
    "mydata2 = mydata[setdiff(names(mydata), [:weight, :education])]"
   ]
  },
  {
   "cell_type": "code",
   "execution_count": 7,
   "metadata": {
    "collapsed": false,
    "nbpresent": {
     "id": "2052e0cb-5c82-4136-be21-6092cea6ba7c"
    }
   },
   "outputs": [
    {
     "data": {
      "text/plain": [
       "400-element Array{Float64,1}:\n",
       " 1.0\n",
       " 1.0\n",
       " 2.0\n",
       " 2.0\n",
       " 3.0\n",
       " 2.0\n",
       " 2.0\n",
       " 3.0\n",
       " 2.0\n",
       " 3.0\n",
       " 2.0\n",
       " 3.0\n",
       " 2.0\n",
       " ⋮  \n",
       " 1.0\n",
       " 2.0\n",
       " 3.0\n",
       " 2.0\n",
       " 1.0\n",
       " 2.0\n",
       " 1.0\n",
       " 1.0\n",
       " 3.0\n",
       " 1.0\n",
       " 2.0\n",
       " 1.0"
      ]
     },
     "execution_count": 7,
     "metadata": {},
     "output_type": "execute_result"
    }
   ],
   "source": [
    "#/*CREATING A NEW VARIABLE*/\n",
    "#DATA mydata3;\n",
    "#SET mydata;\n",
    "#weight_kg=weight*0.453;\n",
    "#IF age <=60 then agegroup=1;\n",
    "#ELSE IF age <=70 and age >60 THEN agegroup=2;\n",
    "#ELSE agegroup=3;\n",
    "#RUN;\n",
    "weight_kg = mydata[:weight]*0.453;\n",
    "agegroup = ones(length(mydata[:age]));\n",
    "agegroup[(mydata[:age] .<= 70) & (mydata[:age] .> 60)] = 2.;\n",
    "agegroup[mydata[:age] .> 70] = 3;\n",
    "agegroup"
   ]
  },
  {
   "cell_type": "code",
   "execution_count": 8,
   "metadata": {
    "collapsed": false,
    "nbpresent": {
     "id": "d8d613e2-d7c0-4c32-af67-485716af7a00"
    },
    "scrolled": false
   },
   "outputs": [
    {
     "name": "stdout",
     "output_type": "stream",
     "text": [
      "weight\n",
      "Min      146.0\n",
      "1st Qu.  167.0\n",
      "Median   181.0\n",
      "Mean     178.67441860465115\n",
      "3rd Qu.  189.0\n",
      "Max      226.0\n",
      "NAs      0\n",
      "NA%      0.0%\n",
      "\n",
      "bmi\n",
      "Min      20.9\n",
      "1st Qu.  24.15\n",
      "Median   24.9\n",
      "Mean     25.502325581395347\n",
      "3rd Qu.  26.75\n",
      "Max      31.6\n",
      "NAs      0\n",
      "NA%      0.0%\n",
      "\n",
      "id\n",
      "Min      126.0\n",
      "1st Qu.  2838.5\n",
      "Median   5566.0\n",
      "Mean     5191.604651162791\n",
      "3rd Qu.  7273.0\n",
      "Max      9982.0\n",
      "NAs      0\n",
      "NA%      0.0%\n",
      "\n",
      "age\n",
      "Min      51.4\n",
      "1st Qu.  55.9\n",
      "Median   57.4\n",
      "Mean     57.17674418604651\n",
      "3rd Qu.  58.95\n",
      "Max      60.0\n",
      "NAs      0\n",
      "NA%      0.0%\n",
      "\n",
      "activity\n",
      "Min      248.3\n",
      "1st Qu.  1187.75\n",
      "Median   2082.5\n",
      "Mean     2601.6627906976746\n",
      "3rd Qu.  3693.5\n",
      "Max      7528.3\n",
      "NAs      0\n",
      "NA%      0.0%\n",
      "\n",
      "education\n",
      "Min      10.0\n",
      "1st Qu.  12.0\n",
      "Median   14.0\n",
      "Mean     14.581395348837209\n",
      "3rd Qu.  16.0\n",
      "Max      19.0\n",
      "NAs      0\n",
      "NA%      0.0%\n",
      "\n",
      "smoking\n",
      "Min      0.0\n",
      "1st Qu.  0.0\n",
      "Median   0.0\n",
      "Mean     0.13953488372093023\n",
      "3rd Qu.  0.0\n",
      "Max      1.0\n",
      "NAs      0\n",
      "NA%      0.0%\n",
      "\n"
     ]
    }
   ],
   "source": [
    "#PROC SORT DATA=mydata OUT=mydata4; \n",
    "#BY id age weight; \n",
    "#RUN;\n",
    "mydata4 = sort(mydata,cols=[:id,:age,:weight]);\n",
    "\n",
    "#PROC MEANS DATA=MYDATA;\n",
    "#VAR WEIGHT;\n",
    "#RUN;\n",
    "mean(mydata[:weight])\n",
    "#describe(mydata)\n",
    "describe(mydata[agegroup.==1,:])\n",
    "#/*weight in the youngest agegrp*/\n",
    "#  PROC MEANS DATA=MYDATA3;\n",
    "#VAR weight;\n",
    "#WHERE agegroup=1;\n",
    "#RUN;\n",
    "#summary(mydata$weight[which(agegroup==1)])"
   ]
  },
  {
   "cell_type": "markdown",
   "metadata": {
    "nbpresent": {
     "id": "a37da4b3-44b6-4cbc-a49f-af22dcff22e9"
    }
   },
   "source": [
    " [`Aggregate`](http://dataframesjl.readthedocs.io/en/latest/split_apply_combine.html?highlight=aggregate) function in dataframe is very useful. So as [split_apply_combine strategy](http://dataframesjl.readthedocs.io/en/latest/split_apply_combine.html)"
   ]
  },
  {
   "cell_type": "code",
   "execution_count": 9,
   "metadata": {
    "collapsed": false,
    "nbpresent": {
     "id": "18dc90fc-2278-4f17-9e2d-446618a1e746"
    }
   },
   "outputs": [
    {
     "data": {
      "text/html": [
       "<table class=\"data-frame\"><tr><th></th><th>smoking</th><th>weight_mean</th><th>bmi_mean</th><th>age_mean</th><th>activity_mean</th><th>education_mean</th></tr><tr><th>1</th><td>0</td><td>176.33243967828417</td><td>25.74235924932976</td><td>67.66219839142089</td><td>2534.129222520107</td><td>14.509383378016086</td></tr><tr><th>2</th><td>1</td><td>188.03703703703704</td><td>26.703703703703702</td><td>65.38148148148149</td><td>2037.585185185185</td><td>14.0</td></tr></table>"
      ],
      "text/plain": [
       "2×6 DataFrames.DataFrame\n",
       "│ Row │ smoking │ weight_mean │ bmi_mean │ age_mean │ activity_mean │\n",
       "├─────┼─────────┼─────────────┼──────────┼──────────┼───────────────┤\n",
       "│ 1   │ 0       │ 176.332     │ 25.7424  │ 67.6622  │ 2534.13       │\n",
       "│ 2   │ 1       │ 188.037     │ 26.7037  │ 65.3815  │ 2037.59       │\n",
       "\n",
       "│ Row │ education_mean │\n",
       "├─────┼────────────────┤\n",
       "│ 1   │ 14.5094        │\n",
       "│ 2   │ 14.0           │"
      ]
     },
     "execution_count": 9,
     "metadata": {},
     "output_type": "execute_result"
    }
   ],
   "source": [
    "#PROC MEANS DATA=mydata5;\n",
    "#VAR weight;\n",
    "#BY smoking;\n",
    "#RUN;\n",
    "aggregate(mydata[:,[:weight,:bmi,:age,:activity,:education,:smoking]], :smoking, mean)"
   ]
  },
  {
   "cell_type": "code",
   "execution_count": 10,
   "metadata": {
    "collapsed": false,
    "nbpresent": {
     "id": "2916dbaa-dbd2-46da-a746-f333a3a2a8f2"
    }
   },
   "outputs": [
    {
     "data": {
      "text/plain": [
       "5×5 Array{Real,2}:\n",
       "  1           0.809881   -0.0237191    -0.0577513     0.0476469\n",
       "  0.809881    1           0.0557992    -0.109256      0.0135349\n",
       " -0.0237191   0.0557992   1            -0.000981908  -0.0596192\n",
       " -0.0577513  -0.109256   -0.000981908   1             0.124171 \n",
       "  0.0476469   0.0135349  -0.0596192     0.124171      1        "
      ]
     },
     "execution_count": 10,
     "metadata": {},
     "output_type": "execute_result"
    }
   ],
   "source": [
    "mydatatmp = mydata[:,[:weight,:bmi,:age,:activity,:education]]\n",
    "cor(Array(mydatatmp))"
   ]
  },
  {
   "cell_type": "markdown",
   "metadata": {
    "nbpresent": {
     "id": "620d7d1a-6e20-4f4e-acef-5be190837163"
    }
   },
   "source": [
    "## Regressions in Julia\n",
    "[GLM.jl](https://github.com/JuliaStats/GLM.jl) \n",
    "Linear models (lm's) and generalized linear models (glm's) in Julia."
   ]
  },
  {
   "cell_type": "code",
   "execution_count": 11,
   "metadata": {
    "collapsed": false,
    "nbpresent": {
     "id": "d91d1930-fffa-4bca-b77b-1176e16d468c"
    }
   },
   "outputs": [
    {
     "name": "stderr",
     "output_type": "stream",
     "text": [
      "INFO: Recompiling stale cache file /Users/jzhou/.julia/lib/v0.5/GLM.ji for module GLM.\n"
     ]
    },
    {
     "data": {
      "text/plain": [
       "DataFrames.DataFrameRegressionModel{GLM.LinearModel{GLM.LmResp{Array{Float64,1}},GLM.DensePredQR{Float64}},Array{Float64,2}}\n",
       "\n",
       "Formula: bmi ~ 1 + smoking\n",
       "\n",
       "Coefficients:\n",
       "             Estimate Std.Error t value Pr(>|t|)\n",
       "(Intercept)   25.7424  0.140129 183.705   <1e-99\n",
       "smoking      0.961344  0.539357 1.78239   0.0754\n"
      ]
     },
     "execution_count": 11,
     "metadata": {},
     "output_type": "execute_result"
    }
   ],
   "source": [
    "#Pkg.add(\"GLM\")\n",
    "using GLM;\n",
    "#PROC ANOVA DATA=mydata;.\n",
    "#CLASS smoking;\n",
    "#MODEL bmi=smoking;\n",
    "#RUN;\n",
    "#summary(aov(bmi~smoking,data=mydata))\n",
    "#summary(lm(bmi~smoking,data=mydata))\n",
    "#fit <- glm(bmi~smoking,data=mydata)\n",
    "# OLS = glm(bmi ~ smoking, mydata, Normal(), IdentityLink())\n",
    "# stderr(OLS)\n",
    "lm1 = fit(LinearModel, bmi ~ smoking, mydata)\n"
   ]
  },
  {
   "cell_type": "code",
   "execution_count": 12,
   "metadata": {
    "collapsed": false,
    "nbpresent": {
     "id": "9f047849-aa93-46ec-b2f0-074294290cdb"
    }
   },
   "outputs": [
    {
     "data": {
      "text/plain": [
       "DataFrames.DataFrameRegressionModel{GLM.GeneralizedLinearModel{GLM.GlmResp{Array{Float64,1},Distributions.Binomial{Float64},GLM.LogitLink},GLM.DensePredChol{Float64,Base.LinAlg.Cholesky{Float64,Array{Float64,2}}}},Array{Float64,2}}\n",
       "\n",
       "Formula: smoking ~ 1 + age + bmi + activity + education\n",
       "\n",
       "Coefficients:\n",
       "                 Estimate   Std.Error   z value Pr(>|z|)\n",
       "(Intercept)       0.10835     3.06077 0.0353996   0.9718\n",
       "age            -0.0712766   0.0342259  -2.08254   0.0373\n",
       "bmi              0.128741   0.0721358    1.7847   0.0743\n",
       "activity     -0.000164278 0.000140251  -1.17131   0.2415\n",
       "education      -0.0698051   0.0763711 -0.914025   0.3607\n"
      ]
     },
     "execution_count": 12,
     "metadata": {},
     "output_type": "execute_result"
    }
   ],
   "source": [
    "#PROC REG DATA=mydata;\n",
    "#MODEL bmi=age activity education smoking;\n",
    "#RUN;\n",
    "fit(LinearModel, bmi~age+smoking+activity+education,mydata)\n",
    "fit(GeneralizedLinearModel, smoking~age+bmi+activity+education,mydata,Binomial())\n",
    "glm(smoking~age+bmi+activity+education,mydata,Binomial(),LogitLink())"
   ]
  },
  {
   "cell_type": "markdown",
   "metadata": {
    "collapsed": false,
    "nbpresent": {
     "id": "a9809090-c0a9-4bac-aaef-a77fcadd2113"
    }
   },
   "source": [
    "## Plots in Julia\n",
    "Plots in Julia: http://julialang.org/downloads/plotting.html\n",
    "\n",
    "Example plots were generated using package [PyPlot](http://matplotlib.org/api/pyplot_api.html).\n",
    "\n",
    "[PyPlot](http://matplotlib.org/api/pyplot_api.html) uses the Julia PyCall package to call Python’s [matplotlib](http://matplotlib.org/api/pyplot_api.html) directly from Julia with little or no overhead (arrays are passed without making a copy). Make sure that Python and MatPlotlib are correctly installed. Some examples can be found [here](https://gist.github.com/gizmaa/7214002) and [here](http://csukuangfj.github.io/2015/07/PyPlot-in-julia/)"
   ]
  },
  {
   "cell_type": "code",
   "execution_count": 77,
   "metadata": {
    "collapsed": false,
    "nbpresent": {
     "id": "8767564c-2530-418a-afda-9fec01217ad6"
    }
   },
   "outputs": [
    {
     "data": {
      "image/png": "[encoded data removed]",
      "text/plain": [
       "PyPlot.Figure(PyObject <matplotlib.figure.Figure object at 0x32e19bef0>)"
      ]
     },
     "metadata": {},
     "output_type": "display_data"
    },
    {
     "data": {
      "text/plain": [
       "PyObject <matplotlib.text.Text object at 0x32e3f8198>"
      ]
     },
     "execution_count": 77,
     "metadata": {},
     "output_type": "execute_result"
    }
   ],
   "source": [
    "#*PLOTS;\n",
    "#/*barcharts*/\n",
    "#PROC CHART DATA=mydata3;\n",
    "#VBAR agegroup/DISCRETE;\n",
    "#RUN;\n",
    "#Pkg.add(\"PyPlot\")\n",
    "#Pkg.add(\"Plots\")\n",
    "#Pkg.clone(\"https://github.com/nalimilan/FreqTables.jl.git\")\n",
    "using FreqTables\n",
    "using Plots\n",
    "using PyPlot\n",
    "plt = PyPlot;\n",
    "#h = PyPlot.plt.hist(x,nbins)\n",
    "#hist(mydata[:age])\n",
    "subplot(121)\n",
    "h = plt.plt[:hist](mydata[:age],50) ;\n",
    "plt.xlabel(\"age\")\n",
    "y = freqtable(agegroup)\n",
    "names(y,1)\n",
    "#barplot(table(agegroup))\n",
    "subplot(122)\n",
    "b = plt.bar(names(y,1),freqtable(agegroup),color=\"#0f87bf\",align=\"center\",alpha=0.4);\n",
    "plt.xlabel(\"agegroup\")"
   ]
  },
  {
   "cell_type": "code",
   "execution_count": 67,
   "metadata": {
    "collapsed": false,
    "nbpresent": {
     "id": "fcb45dfe-f6ac-42c7-9ba9-0c2994fc093b"
    }
   },
   "outputs": [
    {
     "data": {
      "image/png": "[encoded data removed]",
      "text/plain": [
       "PyPlot.Figure(PyObject <matplotlib.figure.Figure object at 0x32d935e10>)"
      ]
     },
     "metadata": {},
     "output_type": "display_data"
    },
    {
     "data": {
      "text/plain": [
       "PyObject <matplotlib.text.Text object at 0x32d969b70>"
      ]
     },
     "execution_count": 67,
     "metadata": {},
     "output_type": "execute_result"
    }
   ],
   "source": [
    "#PROC PLOT DATA=mydata;\n",
    "#PLOT bmi*weight='*';\n",
    "#RUN;\n",
    "#PyPlot.plt[:scatter](mydata[:bmi],mydata[:weight],marker=\".\")\n",
    "plt.plot(mydata[:bmi],mydata[:weight], \"v\")\n",
    "plt.xlabel(\"BMI\")\n",
    "plt.ylabel(\"weight\")"
   ]
  },
  {
   "cell_type": "code",
   "execution_count": 15,
   "metadata": {
    "collapsed": false,
    "nbpresent": {
     "id": "735b3569-9856-4f64-ba04-75253c64d868"
    }
   },
   "outputs": [
    {
     "data": {
      "image/png": "[encoded data removed]",
      "text/plain": [
       "PyPlot.Figure(PyObject <matplotlib.figure.Figure object at 0x327038ac8>)"
      ]
     },
     "metadata": {},
     "output_type": "display_data"
    },
    {
     "data": {
      "text/plain": [
       "Dict{Any,Any} with 6 entries:\n",
       "  \"means\"    => Any[]\n",
       "  \"whiskers\" => Any[PyObject <matplotlib.lines.Line2D object at 0x3270fc8d0>,Py…\n",
       "  \"fliers\"   => Any[PyObject <matplotlib.lines.Line2D object at 0x327106ac8>]\n",
       "  \"boxes\"    => Any[PyObject <matplotlib.lines.Line2D object at 0x3270f4e80>]\n",
       "  \"caps\"     => Any[PyObject <matplotlib.lines.Line2D object at 0x327102940>,Py…\n",
       "  \"medians\"  => Any[PyObject <matplotlib.lines.Line2D object at 0x3271062b0>]"
      ]
     },
     "execution_count": 15,
     "metadata": {},
     "output_type": "execute_result"
    }
   ],
   "source": [
    "boxplot(mydata[:weight])"
   ]
  },
  {
   "cell_type": "code",
   "execution_count": 97,
   "metadata": {
    "collapsed": false,
    "nbpresent": {
     "id": "ca93363a-0f93-4045-b744-2eb19f82031f"
    }
   },
   "outputs": [
    {
     "data": {
      "image/png": "[encoded data removed]",
      "text/plain": [
       "PyPlot.Figure(PyObject <matplotlib.figure.Figure object at 0x1071a4cf8>)"
      ]
     },
     "metadata": {},
     "output_type": "display_data"
    },
    {
     "name": "stderr",
     "output_type": "stream",
     "text": [
      "WARNING: Method definition qqnorm(Array{T<:Any, 1}) in module Main at In[96]:6 overwritten at In[97]:6.\n",
      "WARNING: Method definition qqnorm(Array{T<:Any, 1}, Any) in module Main at In[96]:6 overwritten at In[97]:6.\n"
     ]
    },
    {
     "data": {
      "text/plain": [
       "1-element Array{Any,1}:\n",
       " PyObject <matplotlib.lines.Line2D object at 0x326e48cc0>"
      ]
     },
     "execution_count": 97,
     "metadata": {},
     "output_type": "execute_result"
    }
   ],
   "source": [
    "#Pkg.add(\"Stats\")\n",
    "using Stats\n",
    "\n",
    "#define a qqnorm function to check whether vec(y) matches with normal distribution\n",
    "function qqnorm(y::Vector,seed=1234)\n",
    "    srand(seed)\n",
    "    d = Normal()\n",
    "    x = quantile(rand(d, length(y)),collect(0.002:0.99/length(y):0.99))\n",
    "    ysort = sort(y)\n",
    "    plt.plot(x, ysort,\"v\")\n",
    "    plt.xlabel(\"Theorectical Quantitles\")\n",
    "    plt.ylabel(\"Sample Quantitles\")\n",
    "    slope = (quantile(y,0.75)-quantile(y,0.25))/(quantile(x,0.75)-quantile(x,0.25))\n",
    "    intercept = quantile(y,0.5) - slope * quantile(x,0.5)\n",
    "    b = intercept + x*slope\n",
    "    plot(x, b, color=\"red\", linewidth=2.0, linestyle=\"--\")\n",
    "end\n",
    "\n",
    "qqnorm(Vector(mydata[:weight]))\n"
   ]
  },
  {
   "cell_type": "markdown",
   "metadata": {
    "nbpresent": {
     "id": "19bc34aa-33ca-40cc-aaf1-42fdbbd5f4fe"
    }
   },
   "source": [
    "## Fitting Parametric Curves and Modeling the Covariance"
   ]
  },
  {
   "cell_type": "markdown",
   "metadata": {
    "nbpresent": {
     "id": "5d835b38-72cb-4d1e-a031-c2746c219497"
    }
   },
   "source": [
    "Longitudinal data requires modeling of both mean and covariance structure. Both models are done separately, but are interdependent.\n",
    "* Covariance between measurements (assuming model for $\\Sigma$): \n",
    "  - Unstructured\n",
    "  - Modeled according to specific pattern e.g. autoregressive, banded\n",
    "  - Random effects (later in the course)\n",
    "* Mean response over time (assuming model for $\\beta$):\n",
    "  - Analysis of response profile\n",
    "  - Parametric or semi-parametric curves\n",
    "  \n",
    "* Three broad approaches can be distinguished:\n",
    "   - (1) “unstructured” or arbitrary pattern of covariance \n",
    "   - (2) covariance pattern models\n",
    "   - (3) random effects covariance structure\n",
    "   \n",
    "Our objective is to analyze and interpret a two group repeated measures study by considering appropriate covariance structure and parametric curve models: quadratic, linear.\n",
    " * Part I: \n",
    "     - Data: weight loss study \n",
    "     - Choose a covariance structure\n",
    " * Part II: \n",
    "     - Model the mean using anaylsis of response profiles \n",
    "     - Model the mean using parametric curvesInterpret covariate parameter estimates in final model.\n",
    "     \n",
    "Data description:\n",
    "\n",
    "Sixty overweight male subjects were randomly assigned to one of two weight loss programs. Both programs required subjects to follow a strict diet regimen and a daily exercise routine. In addition, subjects in program 1 received daily encouragement from a representative from the study, while subjects in program 2 received no such encouragement. Weight (in pounds) was measured at baseline (month 0) and at 3, 6, and 9 months thereafter.\n",
    "Key aspects of design: We have a **balanced** study design with all subjects measured at the same four time points. Also, our data are **complete** (no missing data)."
   ]
  },
  {
   "cell_type": "code",
   "execution_count": 99,
   "metadata": {
    "collapsed": false,
    "nbpresent": {
     "id": "c121ce26-70bd-4eac-9305-11dbd117c317"
    }
   },
   "outputs": [],
   "source": [
    "cd(\"/Users/jzhou/Documents/Bin/SASUniversityEdition/myfolders/CPH684/Lec12\")"
   ]
  },
  {
   "cell_type": "code",
   "execution_count": 128,
   "metadata": {
    "collapsed": false
   },
   "outputs": [
    {
     "data": {
      "text/html": [
       "<table class=\"data-frame\"><tr><th></th><th>variable</th><th>value</th><th>id</th><th>program</th></tr><tr><th>1</th><td>d0</td><td>266.1</td><td>1</td><td>1</td></tr><tr><th>2</th><td>d3</td><td>254.8</td><td>1</td><td>1</td></tr><tr><th>3</th><td>d6</td><td>222.0</td><td>1</td><td>1</td></tr><tr><th>4</th><td>d9</td><td>175.5</td><td>1</td><td>1</td></tr><tr><th>5</th><td>d0</td><td>248.1</td><td>2</td><td>1</td></tr><tr><th>6</th><td>d3</td><td>198.4</td><td>2</td><td>1</td></tr><tr><th>7</th><td>d6</td><td>170.8</td><td>2</td><td>1</td></tr><tr><th>8</th><td>d9</td><td>149.1</td><td>2</td><td>1</td></tr><tr><th>9</th><td>d0</td><td>253.2</td><td>3</td><td>1</td></tr><tr><th>10</th><td>d3</td><td>207.1</td><td>3</td><td>1</td></tr><tr><th>11</th><td>d6</td><td>167.3</td><td>3</td><td>1</td></tr><tr><th>12</th><td>d9</td><td>159.1</td><td>3</td><td>1</td></tr><tr><th>13</th><td>d0</td><td>263.1</td><td>4</td><td>1</td></tr><tr><th>14</th><td>d3</td><td>221.7</td><td>4</td><td>1</td></tr><tr><th>15</th><td>d6</td><td>207.8</td><td>4</td><td>1</td></tr><tr><th>16</th><td>d9</td><td>171.8</td><td>4</td><td>1</td></tr><tr><th>17</th><td>d0</td><td>267.5</td><td>5</td><td>1</td></tr><tr><th>18</th><td>d3</td><td>250.2</td><td>5</td><td>1</td></tr><tr><th>19</th><td>d6</td><td>223.9</td><td>5</td><td>1</td></tr><tr><th>20</th><td>d9</td><td>188.4</td><td>5</td><td>1</td></tr><tr><th>21</th><td>d0</td><td>239.5</td><td>6</td><td>1</td></tr><tr><th>22</th><td>d3</td><td>225.0</td><td>6</td><td>1</td></tr><tr><th>23</th><td>d6</td><td>188.7</td><td>6</td><td>1</td></tr><tr><th>24</th><td>d9</td><td>150.6</td><td>6</td><td>1</td></tr><tr><th>25</th><td>d0</td><td>220.9</td><td>7</td><td>1</td></tr><tr><th>26</th><td>d3</td><td>213.9</td><td>7</td><td>1</td></tr><tr><th>27</th><td>d6</td><td>169.9</td><td>7</td><td>1</td></tr><tr><th>28</th><td>d9</td><td>153.9</td><td>7</td><td>1</td></tr><tr><th>29</th><td>d0</td><td>267.8</td><td>8</td><td>1</td></tr><tr><th>30</th><td>d3</td><td>209.9</td><td>8</td><td>1</td></tr><tr><th>&vellip;</th><td>&vellip;</td><td>&vellip;</td><td>&vellip;</td><td>&vellip;</td></tr></table>"
      ],
      "text/plain": [
       "240×4 DataFrames.DataFrame\n",
       "│ Row │ variable │ value │ id │ program │\n",
       "├─────┼──────────┼───────┼────┼─────────┤\n",
       "│ 1   │ d0       │ 266.1 │ 1  │ 1       │\n",
       "│ 2   │ d3       │ 254.8 │ 1  │ 1       │\n",
       "│ 3   │ d6       │ 222.0 │ 1  │ 1       │\n",
       "│ 4   │ d9       │ 175.5 │ 1  │ 1       │\n",
       "│ 5   │ d0       │ 248.1 │ 2  │ 1       │\n",
       "│ 6   │ d3       │ 198.4 │ 2  │ 1       │\n",
       "│ 7   │ d6       │ 170.8 │ 2  │ 1       │\n",
       "│ 8   │ d9       │ 149.1 │ 2  │ 1       │\n",
       "│ 9   │ d0       │ 253.2 │ 3  │ 1       │\n",
       "│ 10  │ d3       │ 207.1 │ 3  │ 1       │\n",
       "│ 11  │ d6       │ 167.3 │ 3  │ 1       │\n",
       "⋮\n",
       "│ 229 │ d0       │ 215.9 │ 58 │ 2       │\n",
       "│ 230 │ d3       │ 209.4 │ 58 │ 2       │\n",
       "│ 231 │ d6       │ 211.4 │ 58 │ 2       │\n",
       "│ 232 │ d9       │ 192.2 │ 58 │ 2       │\n",
       "│ 233 │ d0       │ 255.5 │ 59 │ 2       │\n",
       "│ 234 │ d3       │ 252.2 │ 59 │ 2       │\n",
       "│ 235 │ d6       │ 248.8 │ 59 │ 2       │\n",
       "│ 236 │ d9       │ 237.7 │ 59 │ 2       │\n",
       "│ 237 │ d0       │ 210.1 │ 60 │ 2       │\n",
       "│ 238 │ d3       │ 221.2 │ 60 │ 2       │\n",
       "│ 239 │ d6       │ 224.4 │ 60 │ 2       │\n",
       "│ 240 │ d9       │ 198.1 │ 60 │ 2       │"
      ]
     },
     "execution_count": 128,
     "metadata": {},
     "output_type": "execute_result"
    }
   ],
   "source": [
    "weightloss = readtable(\"weightloss.dat\",separator = ' ',header=false)\n",
    "#colnames(weightloss)<-c(\"id\", \"0\",\"3\",\"6\",\"9\", \"program\")\n",
    "cnames = [\"id\", \"d0\",\"d3\",\"d6\",\"d9\", \"program\"]\n",
    "names!(weightloss, [Symbol(cnames[i]) for i in 1:6])\n",
    "size(weightloss)\n",
    "weightlossL = stack(weightloss,[:d0,:d3,:d6,:d9],[:id,:program]) \n",
    "weightlossL = sort(weightlossL,cols = [:id,:program])"
   ]
  },
  {
   "cell_type": "markdown",
   "metadata": {
    "nbpresent": {
     "id": "20320905-fb38-4c07-b7d1-7b4b9a939ba8"
    }
   },
   "source": [
    "Before fitting the variance component model, we pre-compute the eigen-decomposition of $2\\Phi_{\\text{GRM}}$, the rotated responses, and the constant part in log-likelihood, and store them as a `TwoVarCompVariateRotate` instance, which is re-used in various variane component estimation procedures."
   ]
  },
  {
   "cell_type": "code",
   "execution_count": 24,
   "metadata": {
    "collapsed": false,
    "nbpresent": {
     "id": "8a2c159b-7e82-4425-862c-ae3181b5a331"
    }
   },
   "outputs": [
    {
     "name": "stdout",
     "output_type": "stream",
     "text": [
      " 55.887248 seconds (1.06 M allocations: 1.043 GB, 0.28% gc time)\n"
     ]
    },
    {
     "data": {
      "text/plain": [
       "4-element Array{Symbol,1}:\n",
       " :Yrot    \n",
       " :Xrot    \n",
       " :eigval  \n",
       " :logdetV2"
      ]
     },
     "execution_count": 24,
     "metadata": {},
     "output_type": "execute_result"
    }
   ],
   "source": [
    "# pre-compute eigen-decomposition (~50 secs on my laptop)\n",
    "@time cg10kdata_rotated = TwoVarCompVariateRotate(cg10kdata)\n",
    "fieldnames(cg10kdata_rotated)"
   ]
  },
  {
   "cell_type": "markdown",
   "metadata": {
    "nbpresent": {
     "id": "ed003944-d464-4025-bf6e-25838c69b27f"
    }
   },
   "source": [
    "## Save intermediate results\n",
    "\n",
    "We don't want to re-compute SnpArray and empirical kinship matrices again and again for heritibility analysis."
   ]
  },
  {
   "cell_type": "code",
   "execution_count": 26,
   "metadata": {
    "collapsed": false,
    "nbpresent": {
     "id": "7b7aa48b-79c0-4e0c-a8d2-67e9b89e8aa9"
    },
    "scrolled": true
   },
   "outputs": [
    {
     "name": "stdout",
     "output_type": "stream",
     "text": [
      "                 #210#wsession    280 bytes  JLD.JldWriteSession\n",
      "                 #212#wsession    280 bytes  JLD.JldWriteSession\n",
      "                          Base  34564 KB     Module\n",
      "                       BinDeps    207 KB     Module\n",
      "                         Blosc     37 KB     Module\n",
      "                    ColorTypes    311 KB     Module\n",
      "                        Colors    715 KB     Module\n",
      "                        Compat    323 KB     Module\n",
      "                         Conda     65 KB     Module\n",
      "                          Core   6836 KB     Module\n",
      "                    DataArrays    782 KB     Module\n",
      "                    DataFrames   1822 KB     Module\n",
      "                        Docile    414 KB     Module\n",
      "                        FileIO    536 KB     Module\n",
      "             FixedPointNumbers     32 KB     Module\n",
      "               FixedSizeArrays    157 KB     Module\n",
      "                          GZip    771 KB     Module\n",
      "                          HDF5   3209 KB     Module\n",
      "                        IJulia 2083312 KB     Module\n",
      "                IPythonDisplay     36 KB     Module\n",
      "                         Ipopt     26 KB     Module\n",
      "              IterativeSolvers    485 KB     Module\n",
      "                           JLD   1240 KB     Module\n",
      "                          JSON    239 KB     Module\n",
      "                        KNITRO    274 KB     Module\n",
      "                  LaTeXStrings   3108 bytes  Module\n",
      "                 LegacyStrings     12 KB     Module\n",
      "                    MacroTools    123 KB     Module\n",
      "                          Main 2145169 KB     Module\n",
      "                  MathProgBase    302 KB     Module\n",
      "                      Measures     15 KB     Module\n",
      "                        Nettle     58 KB     Module\n",
      "                     PlotUtils    441 KB     Module\n",
      "                         Plots   2721 KB     Module\n",
      "                        PyCall   1016 KB     Module\n",
      "                        PyPlot   1252 KB     Module\n",
      "                   RecipesBase    174 KB     Module\n",
      "                      Reexport   3648 bytes  Module\n",
      "                           SHA     50 KB     Module\n",
      "                     SnpArrays    439 KB     Module\n",
      "             SortingAlgorithms     39 KB     Module\n",
      "                     StatsBase    800 KB     Module\n",
      "                     StatsFuns    286 KB     Module\n",
      "                     URIParser    102 KB     Module\n",
      "       VarianceComponentModels    302 KB     Module\n",
      "                             Y    677 KB     6670x13 Array{Float64,2}\n",
      "                           ZMQ     81 KB     Module\n",
      "                             _     77 KB     630860-element BitArray{1}\n",
      "                         cg10k 1027303 KB     6670x630860 SnpArrays.SnpArray{2}\n",
      "                   cg10k_trait    978 KB     6670×15 DataFrames.DataFrame\n",
      "                     cg10kdata 695816 KB     VarianceComponentModels.VarianceCo…\n",
      "             cg10kdata_rotated    729 KB     VarianceComponentModels.TwoVarComp…\n",
      "                           maf   4928 KB     630860-element Array{Float64,1}\n",
      "               missings_by_snp   4928 KB     630860-element Array{Int64,1}\n",
      "                        people      8 bytes  Int64\n",
      "                          snps      8 bytes  Int64\n",
      "                          Φgrm 347569 KB     6670x6670 Array{Float64,2}\n"
     ]
    }
   ],
   "source": [
    "#using JLD\n",
    "#@save \"cg10k.jld\"\n",
    "#whos()"
   ]
  },
  {
   "cell_type": "markdown",
   "metadata": {
    "nbpresent": {
     "id": "45ae92a5-7cda-44bd-9c59-e3545f923420"
    }
   },
   "source": [
    "To load workspace"
   ]
  },
  {
   "cell_type": "code",
   "execution_count": 52,
   "metadata": {
    "collapsed": false,
    "nbpresent": {
     "id": "33107d4c-2896-4604-a428-6f007d625acf"
    },
    "scrolled": true
   },
   "outputs": [],
   "source": [
    "#using SnpArrays, JLD, DataFrames, VarianceComponentModels, Plots\n",
    "#pyplot()\n",
    "#@load \"cg10k.jld\"\n",
    "#whos()"
   ]
  },
  {
   "cell_type": "markdown",
   "metadata": {
    "nbpresent": {
     "id": "2b0163ab-10cf-4656-be07-2cc10c33d493"
    }
   },
   "source": [
    "## Heritability of single traits"
   ]
  },
  {
   "cell_type": "markdown",
   "metadata": {
    "nbpresent": {
     "id": "ed798710-abe3-4ec9-8e4d-25e458c0d95e"
    }
   },
   "source": [
    "We use Fisher scoring algorithm to fit variance component model for each single trait."
   ]
  },
  {
   "cell_type": "code",
   "execution_count": 29,
   "metadata": {
    "collapsed": false,
    "nbpresent": {
     "id": "b4033335-3e53-4b70-b032-e2465a98fc0d"
    },
    "scrolled": true
   },
   "outputs": [
    {
     "name": "stdout",
     "output_type": "stream",
     "text": [
      "Trait1\n",
      "(σ2a[trait],σ2e[trait]) = (0.26104123217397407,0.7356884432614137)\n",
      "Trait2\n",
      "(σ2a[trait],σ2e[trait]) = (0.1887414738028781,0.8106899991616237)\n",
      "Trait3\n",
      "(σ2a[trait],σ2e[trait]) = (0.31857192765473236,0.6801458862875933)\n",
      "Trait4\n",
      "(σ2a[trait],σ2e[trait]) = (0.26556901333953215,0.7303588364945378)\n",
      "Trait5\n",
      "(σ2a[trait],σ2e[trait]) = (0.28123321193920503,0.7167989047155238)\n",
      "Trait6\n",
      "(σ2a[trait],σ2e[trait]) = (0.2829461149704314,0.716562953439665)\n",
      "Trait7\n",
      "(σ2a[trait],σ2e[trait]) = (0.2154385640394616,0.7816211121586024)\n",
      "Trait8\n",
      "(σ2a[trait],σ2e[trait]) = (0.19412648732666243,0.8055277649986169)\n",
      "Trait9\n",
      "(σ2a[trait],σ2e[trait]) = (0.24789561127297127,0.7504615853619782)\n",
      "Trait10\n",
      "(σ2a[trait],σ2e[trait]) = (0.10007455815563934,0.8998152773605567)\n",
      "Trait11\n",
      "(σ2a[trait],σ2e[trait]) = (0.1648677816930128,0.8338002257315535)\n",
      "Trait12\n",
      "(σ2a[trait],σ2e[trait]) = (0.08298660416199151,0.9158035668415299)\n",
      "Trait13\n",
      "(σ2a[trait],σ2e[trait]) = (0.05684248094793726,0.942365338132603)\n",
      "  1.277847 seconds (27.43 M allocations: 449.203 MB, 6.96% gc time)\n"
     ]
    }
   ],
   "source": [
    "# heritability from single trait analysis\n",
    "hST = zeros(13)\n",
    "# standard errors of estimated heritability\n",
    "hST_se = zeros(13)\n",
    "# additive genetic effects\n",
    "σ2a = zeros(13)\n",
    "# enviromental effects\n",
    "σ2e = zeros(13)\n",
    "\n",
    "@time for trait in 1:13\n",
    "    println(names(cg10k_trait)[trait + 2])\n",
    "    # form data set for trait j\n",
    "    traitj_data = TwoVarCompVariateRotate(cg10kdata_rotated.Yrot[:, trait], cg10kdata_rotated.Xrot, \n",
    "        cg10kdata_rotated.eigval, cg10kdata_rotated.logdetV2)\n",
    "    # initialize model parameters\n",
    "    traitj_model = VarianceComponentModel(traitj_data)\n",
    "    # estimate variance components\n",
    "    _, _, _, Σcov, _, _ = mle_fs!(traitj_model, traitj_data; solver=:Ipopt, verbose=false)\n",
    "    σ2a[trait] = traitj_model.Σ[1][1]\n",
    "    σ2e[trait] = traitj_model.Σ[2][1]\n",
    "    @show σ2a[trait], σ2e[trait]\n",
    "    h, hse = heritability(traitj_model.Σ, Σcov)\n",
    "    hST[trait] = h[1]\n",
    "    hST_se[trait] = hse[1]\n",
    "end"
   ]
  },
  {
   "cell_type": "code",
   "execution_count": 30,
   "metadata": {
    "collapsed": false,
    "nbpresent": {
     "id": "4c1c0b42-3370-4707-886c-27262e96f7f4"
    }
   },
   "outputs": [
    {
     "data": {
      "text/plain": [
       "2x13 Array{Float64,2}:\n",
       " 1.0  1.0  1.0  1.0  1.0  1.0  1.0  1.0  1.0  1.0  1.0  1.0  1.0\n",
       " 1.0  1.0  1.0  1.0  1.0  1.0  1.0  1.0  1.0  1.0  1.0  1.0  1.0"
      ]
     },
     "execution_count": 30,
     "metadata": {},
     "output_type": "execute_result"
    }
   ],
   "source": [
    "# heritability and standard errors\n",
    "[hST'; hST_se']"
   ]
  },
  {
   "cell_type": "markdown",
   "metadata": {
    "nbpresent": {
     "id": "b0949262-28fa-45a0-a87c-be2f7f0ff3d1"
    }
   },
   "source": [
    "## Pairwise traits\n",
    "\n",
    "Joint analysis of multiple traits is subject to intensive research recently. Following code snippet does joint analysis of all pairs of traits, a total of 78 bivariate variane component models."
   ]
  },
  {
   "cell_type": "code",
   "execution_count": 48,
   "metadata": {
    "collapsed": false,
    "nbpresent": {
     "id": "17b635f3-fec3-46fe-90ed-0bdc3ef9cbc5"
    }
   },
   "outputs": [
    {
     "name": "stdout",
     "output_type": "stream",
     "text": [
      "Trait1Trait2\n",
      "(Σa[i,j],Σe[i,j]) = (\n",
      "[0.26011943486601186 0.1762158250617613\n",
      " 0.1762158250617613 0.18737615484007947],\n",
      "\n",
      "[0.7365894055260143 0.5838920954615305\n",
      " 0.5838920954615305 0.8120331390284958])\n",
      "Trait1Trait3\n",
      "(Σa[i,j],Σe[i,j]) = (\n",
      "[0.2615639935561912 -0.013126818537540254\n",
      " -0.013126818537540254 0.3190566225472985],\n",
      "\n",
      "[0.7351802111599617 -0.12112674834388097\n",
      " -0.12112674834388097 0.6796789899243143])\n",
      "Trait1Trait4\n",
      "(Σa[i,j],Σe[i,j]) = (\n",
      "[0.2608796031577277 0.22261440559416618\n",
      " 0.22261440559416618 0.2655808327606219],\n",
      "\n",
      "[0.735845998165887 0.5994353345883121\n",
      " 0.5994353345883121 0.7303474474501164])\n",
      "Trait1Trait5\n",
      "(Σa[i,j],Σe[i,j]) = (\n",
      "[0.2607830377026644 -0.14701178378031446\n",
      " -0.14701178378031446 0.28187724546298826],\n",
      "\n",
      "[0.7359373011287004 -0.25458389055860414\n",
      " -0.25458389055860414 0.7161761242033678])\n",
      "Trait1Trait6\n",
      "(Σa[i,j],Σe[i,j]) = (\n",
      "[0.2607070355193131 -0.12935642592773852\n",
      " -0.12935642592773852 0.28318838486253467],\n",
      "\n",
      "[0.7360128807197885 -0.231361283307625\n",
      " -0.231361283307625 0.716329432342681])\n",
      "Trait1Trait7\n",
      "(Σa[i,j],Σe[i,j]) = (\n",
      "[0.26030750074784287 -0.1402575370655325\n",
      " -0.1402575370655325 0.2150805562425413],\n",
      "\n",
      "[0.7364055998763509 -0.19780547645064997\n",
      " -0.19780547645064997 0.7819851899285041])\n",
      "Trait1Trait8\n",
      "(Σa[i,j],Σe[i,j]) = (\n",
      "[0.2610345999103056 -0.03352962807192369\n",
      " -0.03352962807192369 0.19414307314249296],\n",
      "\n",
      "[0.7356949687057843 -0.12627246367180997\n",
      " -0.12627246367180997 0.8055115370762379])\n",
      "Trait1Trait9\n",
      "(Σa[i,j],Σe[i,j]) = (\n",
      "[0.2630163159971886 -0.20486492716336502\n",
      " -0.20486492716336502 0.24679565235659717],\n",
      "\n",
      "[0.7337944623091683 -0.30745013667607846\n",
      " -0.30745013667607846 0.7515442213452723])\n",
      "Trait1Trait10\n",
      "(Σa[i,j],Σe[i,j]) = (\n",
      "[0.26089807908065815 -0.0998175618122165\n",
      " -0.0998175618122165 0.09702328543308451],\n",
      "\n",
      "[0.7358279769605037 -0.30360875962256173\n",
      " -0.30360875962256173 0.9028534651901434])\n",
      "Trait1Trait11\n",
      "(Σa[i,j],Σe[i,j]) = (\n",
      "[0.2607397076711653 -0.13898341539579964\n",
      " -0.13898341539579964 0.1630626318546552],\n",
      "\n",
      "[0.735982002778579 -0.35917453215273204\n",
      " -0.35917453215273204 0.8355950431900447])\n",
      "Trait1Trait12\n",
      "(Σa[i,j],Σe[i,j]) = (\n",
      "[0.26306860075660077 -0.14553553813998849\n",
      " -0.14553553813998849 0.08051357250838533],\n",
      "\n",
      "[0.7337809595143813 -0.04169751340916241\n",
      " -0.04169751340916241 0.9183594535088752])\n",
      "Trait1Trait13\n",
      "(Σa[i,j],Σe[i,j]) = (\n",
      "[0.26234367607968223 -0.10889551714052524\n",
      " -0.10889551714052524 0.051294038316720095],\n",
      "\n",
      "[0.7344496461774143 -0.11399558206598119\n",
      " -0.11399558206598119 0.9479424008071721])\n",
      "Trait2Trait3\n",
      "(Σa[i,j],Σe[i,j]) = (\n",
      "[0.18901532602813093 0.14615743012019033\n",
      " 0.14615743012019033 0.32052865893860505],\n",
      "\n",
      "[0.8104184413504798 0.09749923852684478\n",
      " 0.09749923852684478 0.6782713240483099])\n",
      "Trait2Trait4\n",
      "(Σa[i,j],Σe[i,j]) = (\n",
      "[0.18839514990246123 0.07521464811372748\n",
      " 0.07521464811372748 0.2655584804130378],\n",
      "\n",
      "[0.811030102837779 0.2204948315759956\n",
      " 0.2204948315759956 0.7303691342564813])\n",
      "Trait2Trait5\n",
      "(Σa[i,j],Σe[i,j]) = (\n",
      "[0.18871644001954374 -0.01131401822579143\n",
      " -0.01131401822579143 0.2812465335267498],\n",
      "\n",
      "[0.810714524791035 -0.037010470173424806\n",
      " -0.037010470173424806 0.7167859986688715])\n",
      "Trait2Trait6\n",
      "(Σa[i,j],Σe[i,j]) = (\n",
      "[0.18877375983465075 -0.00310660369976054\n",
      " -0.00310660369976054 0.28301251325859456],\n",
      "\n",
      "[0.8106583657780116 -0.021182656859443615\n",
      " -0.021182656859443615 0.7164985874171053])\n",
      "Trait2Trait7\n",
      "(Σa[i,j],Σe[i,j]) = (\n",
      "[0.1883522257140152 -0.02995792853603445\n",
      " -0.02995792853603445 0.21518854248912628],\n",
      "\n",
      "[0.8110719442656862 -0.0013693865327215602\n",
      " -0.0013693865327215602 0.7818678818059402])\n",
      "Trait2Trait8\n",
      "(Σa[i,j],Σe[i,j]) = (\n",
      "[0.18926168900120724 0.03314229844995283\n",
      " 0.03314229844995283 0.19466629556483447],\n",
      "\n",
      "[0.8101822287422975 -0.0326002707144356\n",
      " -0.0326002707144356 0.8050045055369501])\n",
      "Trait2Trait9\n",
      "(Σa[i,j],Σe[i,j]) = (\n",
      "[0.18728489562655376 -0.08541458777339436\n",
      " -0.08541458777339436 0.24671880340597185],\n",
      "\n",
      "[0.8121330456004312 -0.08087908481059602\n",
      " -0.08087908481059602 0.7516171286974279])\n",
      "Trait2Trait10\n",
      "(Σa[i,j],Σe[i,j]) = (\n",
      "[0.18896456296522746 -0.12531880400522133\n",
      " -0.12531880400522133 0.10012137187907984],\n",
      "\n",
      "[0.8104983819177826 -0.2710710218698844\n",
      " -0.2710710218698844 0.8998490679641975])\n",
      "Trait2Trait11\n",
      "(Σa[i,j],Σe[i,j]) = (\n",
      "[0.18776200371864812 -0.1184792033068952\n",
      " -0.1184792033068952 0.16627341912779045],\n",
      "\n",
      "[0.8116528153526548 -0.2955489949517167\n",
      " -0.2955489949517167 0.832437271728203])\n",
      "Trait2Trait12\n",
      "(Σa[i,j],Σe[i,j]) = (\n",
      "[0.1881906352068438 -0.09053833116422316\n",
      " -0.09053833116422316 0.08226341390094308],\n",
      "\n",
      "[0.8112716597648593 0.04542203421425378\n",
      " 0.04542203421425378 0.9165863321461983])\n",
      "Trait2Trait13\n",
      "(Σa[i,j],Σe[i,j]) = (\n",
      "[0.18826030571129157 -0.07070412373895248\n",
      " -0.07070412373895248 0.05472389417033724],\n",
      "\n",
      "[0.8112166105484152 0.07379770160245963\n",
      " 0.07379770160245963 0.944520839730775])\n",
      "Trait3Trait4\n",
      "(Σa[i,j],Σe[i,j]) = (\n",
      "[0.31852039539972626 -0.15433893723696576\n",
      " -0.15433893723696576 0.2647540990554418],\n",
      "\n",
      "[0.6801958865837233 -0.3034399519706689\n",
      " -0.3034399519706689 0.7311518515398231])\n",
      "Trait3Trait5\n",
      "(Σa[i,j],Σe[i,j]) = (\n",
      "[0.31896997787053516 0.18435446676116027\n",
      " 0.18435446676116027 0.28250017723831466],\n",
      "\n",
      "[0.6797599597910079 0.3364105248337092\n",
      " 0.3364105248337092 0.7155665412298342])\n",
      "Trait3Trait6\n",
      "(Σa[i,j],Σe[i,j]) = (\n",
      "[0.31956636442184144 0.16663988772517022\n",
      " 0.16663988772517022 0.28503131823058603],\n",
      "\n",
      "[0.6791832508344973 0.2976976595437346\n",
      " 0.2976976595437346 0.7145358500001604])\n",
      "Trait3Trait7\n",
      "(Σa[i,j],Σe[i,j]) = (\n",
      "[0.3185755051457358 0.16685216000502112\n",
      " 0.16685216000502112 0.21523224225933885],\n",
      "\n",
      "[0.6801424314858139 0.3471388423850005\n",
      " 0.3471388423850005 0.781823130995854])\n",
      "Trait3Trait8\n",
      "(Σa[i,j],Σe[i,j]) = (\n",
      "[0.3204992348069676 0.05753194037710734\n",
      " 0.05753194037710734 0.1972448985403006],\n",
      "\n",
      "[0.6782830498092438 0.04425974188550198\n",
      " 0.04425974188550198 0.802473783267546])\n",
      "Trait3Trait9\n",
      "(Σa[i,j],Σe[i,j]) = (\n",
      "[0.3187191200121132 0.13729240537787007\n",
      " 0.13729240537787007 0.24697586633850704],\n",
      "\n",
      "[0.6800039145599909 0.26710543782880997\n",
      " 0.26710543782880997 0.7513573840679394])\n",
      "Trait3Trait10\n",
      "(Σa[i,j],Σe[i,j]) = (\n",
      "[0.3189152132176088 -0.07863382344383743\n",
      " -0.07863382344383743 0.10110317193536325],\n",
      "\n",
      "[0.6798145588849664 -0.14078871656381564\n",
      " -0.14078871656381564 0.8987982713097735])\n",
      "Trait3Trait11\n",
      "(Σa[i,j],Σe[i,j]) = (\n",
      "[0.31782233045956043 -0.01798395917118423\n",
      " -0.01798395917118423 0.1647429211651019],\n",
      "\n",
      "[0.6808712744794143 -0.11416573111891\n",
      " -0.11416573111891 0.8339228729012033])\n",
      "Trait3Trait12\n",
      "(Σa[i,j],Σe[i,j]) = (\n",
      "[0.3208883401712095 0.08452483760012779\n",
      " 0.08452483760012779 0.0869867503137195],\n",
      "\n",
      "[0.6779139477283616 0.034013271781512075\n",
      " 0.034013271781512075 0.9118411342566285])\n",
      "Trait3Trait13\n",
      "(Σa[i,j],Σe[i,j]) = (\n",
      "[0.3230087933057131 0.11068106827250586\n",
      " 0.11068106827250586 0.06117389942330572],\n",
      "\n",
      "[0.6759011385391952 -0.007296623887800238\n",
      " -0.007296623887800238 0.9380722549963341])\n",
      "Trait4Trait5\n",
      "(Σa[i,j],Σe[i,j]) = (\n",
      "[0.2656669903604965 -0.21584756082780146\n",
      " -0.21584756082780146 0.2829186620095413],\n",
      "\n",
      "[0.730254403023407 -0.3766752828931733\n",
      " -0.3766752828931733 0.7151643527059122])\n",
      "Trait4Trait6\n",
      "(Σa[i,j],Σe[i,j]) = (\n",
      "[0.26614305300780366 -0.20063378204208704\n",
      " -0.20063378204208704 0.2844419499811047],\n",
      "\n",
      "[0.7297943215361493 -0.3468040727735064\n",
      " -0.3468040727735064 0.7151119490184537])\n",
      "Trait4Trait7\n",
      "(Σa[i,j],Σe[i,j]) = (\n",
      "[0.26448980293893115 -0.18275157344067408\n",
      " -0.18275157344067408 0.2141168002370858],\n",
      "\n",
      "[0.7314145610176318 -0.32617199552839854\n",
      " -0.32617199552839854 0.7829351279943724])\n",
      "Trait4Trait8\n",
      "(Σa[i,j],Σe[i,j]) = (\n",
      "[0.2666939542160246 -0.0976354011540246\n",
      " -0.0976354011540246 0.19612608720215985],\n",
      "\n",
      "[0.7292655955853755 -0.1503604822556339\n",
      " -0.1503604822556339 0.8035709853977226])\n",
      "Trait4Trait9\n",
      "(Σa[i,j],Σe[i,j]) = (\n",
      "[0.27003652025126973 -0.22740698731778375\n",
      " -0.22740698731778375 0.24804582217578136],\n",
      "\n",
      "[0.7260245141082378 -0.415601435658805\n",
      " -0.415601435658805 0.7502976667302643])\n",
      "Trait4Trait10\n",
      "(Σa[i,j],Σe[i,j]) = (\n",
      "[0.26554294182732757 -0.03381072154054875\n",
      " -0.03381072154054875 0.09960982635744982],\n",
      "\n",
      "[0.7303952879672779 -0.22772490049245936\n",
      " -0.22772490049245936 0.9002752447796257])\n",
      "Trait4Trait11\n",
      "(Σa[i,j],Σe[i,j]) = (\n",
      "[0.2656276022060441 -0.09674003324481623\n",
      " -0.09674003324481623 0.16327409085920214],\n",
      "\n",
      "[0.7303019079384457 -0.2726111957438671\n",
      " -0.2726111957438671 0.8353713025178962])\n",
      "Trait4Trait12\n",
      "(Σa[i,j],Σe[i,j]) = (\n",
      "[0.2681636965467903 -0.14161261172764802\n",
      " -0.14161261172764802 0.08039677342809182],\n",
      "\n",
      "[0.7278825933087102 -0.08284654588272211\n",
      " -0.08284654588272211 0.918445560967837])\n",
      "Trait4Trait13\n",
      "(Σa[i,j],Σe[i,j]) = (\n",
      "[0.2661712320522607 -0.0980730872961898\n",
      " -0.0980730872961898 0.05401019173275427],\n",
      "\n",
      "[0.729774933270783 -0.22505950767232102\n",
      " -0.22505950767232102 0.9452044744873448])\n",
      "Trait5Trait6\n",
      "(Σa[i,j],Σe[i,j]) = (\n",
      "[0.28159165289454874 0.2808983718818519\n",
      " 0.2808983718818519 0.28229805042654726],\n",
      "\n",
      "[0.7164553609549211 0.6603676496785938\n",
      " 0.6603676496785938 0.717195064496623])\n",
      "Trait5Trait7\n",
      "(Σa[i,j],Σe[i,j]) = (\n",
      "[0.28081437389240205 0.23209986889788878\n",
      " 0.23209986889788878 0.21166204275984282],\n",
      "\n",
      "[0.7172180317169196 0.6743038172587597\n",
      " 0.6743038172587597 0.7853426270989494])\n",
      "Trait5Trait8\n",
      "(Σa[i,j],Σe[i,j]) = (\n",
      "[0.28134012176468737 0.16394787427626617\n",
      " 0.16394787427626617 0.19270331039605396],\n",
      "\n",
      "[0.7167009109174287 0.2210321091237623\n",
      " 0.2210321091237623 0.8069220956477239])\n",
      "Trait5Trait9\n",
      "(Σa[i,j],Σe[i,j]) = (\n",
      "[0.2838778024838298 0.2445317256807396\n",
      " 0.2445317256807396 0.24129303734021107],\n",
      "\n",
      "[0.7142441395397906 0.5084169870307738\n",
      " 0.5084169870307738 0.7568942338389598])\n",
      "Trait5Trait10\n",
      "(Σa[i,j],Σe[i,j]) = (\n",
      "[0.2818130149574279 -0.04621141466301363\n",
      " -0.04621141466301363 0.10148069053449221],\n",
      "\n",
      "[0.7162383352815093 -0.057211134789489596\n",
      " -0.057211134789489596 0.8984242888573427])\n",
      "Trait5Trait11\n",
      "(Σa[i,j],Σe[i,j]) = (\n",
      "[0.2804235419822887 0.02024954557852043\n",
      " 0.02024954557852043 0.16400332024748288],\n",
      "\n",
      "[0.7175856258526226 -0.03524364741892967\n",
      " -0.03524364741892967 0.8346493308285122])\n",
      "Trait5Trait12\n",
      "(Σa[i,j],Σe[i,j]) = (\n",
      "[0.28142706977012344 0.06161306621995005\n",
      " 0.06161306621995005 0.08271662802160216],\n",
      "\n",
      "[0.7166145561768477 0.0529286449372972\n",
      " 0.0529286449372972 0.9160739286176958])\n",
      "Trait5Trait13\n",
      "(Σa[i,j],Σe[i,j]) = (\n",
      "[0.2822915336764342 0.0704220516897222\n",
      " 0.0704220516897222 0.05694630996696085],\n",
      "\n",
      "[0.7157823114676733 0.052837445512878035\n",
      " 0.052837445512878035 0.9422684292567837])\n",
      "Trait6Trait7\n",
      "(Σa[i,j],Σe[i,j]) = (\n",
      "[0.2829610760516547 0.2206563210574195\n",
      " 0.2206563210574195 0.21385609770082856],\n",
      "\n",
      "[0.7165486719537999 0.5810829183833723\n",
      " 0.5810829183833723 0.7831785715716468])\n",
      "Trait6Trait8\n",
      "(Σa[i,j],Σe[i,j]) = (\n",
      "[0.2829606227312136 0.18407962646923373\n",
      " 0.18407962646923373 0.19237902249802602],\n",
      "\n",
      "[0.7165491133467123 0.43659738936447606\n",
      " 0.43659738936447606 0.8072460050938695])\n",
      "Trait6Trait9\n",
      "(Σa[i,j],Σe[i,j]) = (\n",
      "[0.28497844062058 0.23443573773381146\n",
      " 0.23443573773381146 0.2432071080956827],\n",
      "\n",
      "[0.7146005305265446 0.4768263391945174\n",
      " 0.4768263391945174 0.7550279957473227])\n",
      "Trait6Trait10\n",
      "(Σa[i,j],Σe[i,j]) = (\n",
      "[0.28365475689672454 -0.04354848104335164\n",
      " -0.04354848104335164 0.10202532157941907],\n",
      "\n",
      "[0.7158768651032459 -0.05916812562776467\n",
      " -0.05916812562776467 0.8978859540391582])\n",
      "Trait6Trait11\n",
      "(Σa[i,j],Σe[i,j]) = (\n",
      "[0.2815224136585793 0.027999198497751236\n",
      " 0.027999198497751236 0.16342991310056218],\n",
      "\n",
      "[0.7179464769867658 -0.05241060710545059\n",
      " -0.05241060710545059 0.8352130875914755])\n",
      "Trait6Trait12\n",
      "(Σa[i,j],Σe[i,j]) = (\n",
      "[0.2831143444111233 0.05713989944443876\n",
      " 0.05713989944443876 0.08267893130031188],\n",
      "\n",
      "[0.7164030333442727 0.047919871306752966\n",
      " 0.047919871306752966 0.9161120298157116])\n",
      "Trait6Trait13\n",
      "(Σa[i,j],Σe[i,j]) = (\n",
      "[0.28381996715653646 0.06112120329706666\n",
      " 0.06112120329706666 0.057081689702462565],\n",
      "\n",
      "[0.7157217792749953 0.05326983474671377\n",
      " 0.05326983474671377 0.942133354542685])\n",
      "Trait7Trait8\n",
      "(Σa[i,j],Σe[i,j]) = (\n",
      "[0.213856863605251 0.08845552117653824\n",
      " 0.08845552117653824 0.19237305507049685],\n",
      "\n",
      "[0.7831777634597645 -0.05683305954905118\n",
      " -0.05683305954905118 0.807251867488134])\n",
      "Trait7Trait9\n",
      "(Σa[i,j],Σe[i,j]) = (\n",
      "[0.2187556960284994 0.21704186383100332\n",
      " 0.21704186383100332 0.24414386503619973],\n",
      "\n",
      "[0.7784327750440135 0.46290096824972443\n",
      " 0.46290096824972443 0.7541229287932897])\n",
      "Trait7Trait10\n",
      "(Σa[i,j],Σe[i,j]) = (\n",
      "[0.2162729624537394 -0.04211457255557115\n",
      " -0.04211457255557115 0.10209048393658933],\n",
      "\n",
      "[0.7808073891161575 -0.08590745272581501\n",
      " -0.08590745272581501 0.8978220136457029])\n",
      "Trait7Trait11\n",
      "(Σa[i,j],Σe[i,j]) = (\n",
      "[0.21406877656928827 0.020696687538012654\n",
      " 0.020696687538012654 0.16347380945331402],\n",
      "\n",
      "[0.7829608191265603 -0.04814801124367421\n",
      " -0.04814801124367421 0.8351704867213441])\n",
      "Trait7Trait12\n",
      "(Σa[i,j],Σe[i,j]) = (\n",
      "[0.21493232506988705 0.07578743223300372\n",
      " 0.07578743223300372 0.08087309077189964],\n",
      "\n",
      "[0.7821316768251394 0.03469555448124276\n",
      " 0.03469555448124276 0.9179149818424026])\n",
      "Trait7Trait13\n",
      "(Σa[i,j],Σe[i,j]) = (\n",
      "[0.21595864338557708 0.07493726652342743\n",
      " 0.07493726652342743 0.05459341128356046],\n",
      "\n",
      "[0.7811387334979083 0.038905793649911785\n",
      " 0.038905793649911785 0.9446215738065965])\n",
      "Trait8Trait9\n",
      "(Σa[i,j],Σe[i,j]) = (\n",
      "[0.1945549993500238 0.11281615770315953\n",
      " 0.11281615770315953 0.24724415191290416],\n",
      "\n",
      "[0.8051240570336379 0.18477843243741904\n",
      " 0.18477843243741904 0.7510982278179416])\n",
      "Trait8Trait10\n",
      "(Σa[i,j],Σe[i,j]) = (\n",
      "[0.19444100261213867 -0.015634153642008396\n",
      " -0.015634153642008396 0.10042647889284885],\n",
      "\n",
      "[0.8052215712386805 0.011982589661319697\n",
      " 0.011982589661319697 0.8994678453453964])\n",
      "Trait8Trait11\n",
      "(Σa[i,j],Σe[i,j]) = (\n",
      "[0.1938531643383019 0.02253246401818133\n",
      " 0.02253246401818133 0.1646685438304724],\n",
      "\n",
      "[0.8057962945716937 -0.02727473686745877\n",
      " -0.02727473686745877 0.8339969682996413])\n",
      "Trait8Trait12\n",
      "(Σa[i,j],Σe[i,j]) = (\n",
      "[0.19395121849291824 -0.0028760121862793694\n",
      " -0.0028760121862793694 0.08285727475931896],\n",
      "\n",
      "[0.8056997963655848 0.03361278793070539\n",
      " 0.03361278793070539 0.9159318672878024])\n",
      "Trait8Trait13\n",
      "(Σa[i,j],Σe[i,j]) = (\n",
      "[0.19397976155497032 0.00407866657222457\n",
      " 0.00407866657222457 0.0569071232157577],\n",
      "\n",
      "[0.8056716012394011 0.03788170752125487\n",
      " 0.03788170752125487 0.9423010776566965])\n",
      "Trait9Trait10\n",
      "(Σa[i,j],Σe[i,j]) = (\n",
      "[0.24729383232785143 -0.0023083632331894533\n",
      " -0.0023083632331894533 0.09982638783372684],\n",
      "\n",
      "[0.7510505981833204 0.07407294365773788\n",
      " 0.07407294365773788 0.9000613327603086])\n",
      "Trait9Trait11\n",
      "(Σa[i,j],Σe[i,j]) = (\n",
      "[0.24782344372317563 0.031823502985820915\n",
      " 0.031823502985820915 0.1648904641109765],\n",
      "\n",
      "[0.7505321390736757 0.15228537870002187\n",
      " 0.15228537870002187 0.83377795534806])\n",
      "Trait9Trait12\n",
      "(Σa[i,j],Σe[i,j]) = (\n",
      "[0.25033469514724843 0.08457136153430893\n",
      " 0.08457136153430893 0.08875872340836785],\n",
      "\n",
      "[0.7480909649333196 0.10775632151728669\n",
      " 0.10775632151728669 0.910108091343637])\n",
      "Trait9Trait13\n",
      "(Σa[i,j],Σe[i,j]) = (\n",
      "[0.24944189418598844 0.09348451303745715\n",
      " 0.09348451303745715 0.05793201493993036],\n",
      "\n",
      "[0.7489745640206875 0.09821909822628513\n",
      " 0.09821909822628513 0.9413348855487351])\n",
      "Trait10Trait11\n",
      "(Σa[i,j],Σe[i,j]) = (\n",
      "[0.09313966827485977 0.10003371877328632\n",
      " 0.10003371877328632 0.16495492788178234],\n",
      "\n",
      "[0.906703444773408 0.4744266593662351\n",
      " 0.4744266593662351 0.8337151519529007])\n",
      "Trait10Trait12\n",
      "(Σa[i,j],Σe[i,j]) = (\n",
      "[0.09672471643798064 0.05640434659756219\n",
      " 0.05640434659756219 0.07945282707191781],\n",
      "\n",
      "[0.9031497841220121 0.08532319187443138\n",
      " 0.08532319187443138 0.9193343434315169])\n",
      "Trait10Trait13\n",
      "(Σa[i,j],Σe[i,j]) = (\n",
      "[0.10098492171842248 -0.027991587712823545\n",
      " -0.027991587712823545 0.0578369411328611],\n",
      "\n",
      "[0.8989368215861225 0.16605077488864645\n",
      " 0.16605077488864645 0.9413901799271158])\n",
      "Trait11Trait12\n",
      "(Σa[i,j],Σe[i,j]) = (\n",
      "[0.16384057742532637 0.05703178017185482\n",
      " 0.05703178017185482 0.07921436807488584],\n",
      "\n",
      "[0.8348140972542764 0.14559650974208901\n",
      " 0.14559650974208901 0.9195521322078624])\n",
      "Trait11Trait13\n",
      "(Σa[i,j],Σe[i,j]) = (\n",
      "[0.1648829333720086 -0.0015841372105068166\n",
      " -0.0015841372105068166 0.05749684374690435],\n",
      "\n",
      "[0.8337979488921528 0.20061222835020495\n",
      " 0.20061222835020495 0.9417152321030534])\n",
      "Trait12Trait13\n",
      "(Σa[i,j],Σe[i,j]) = (\n",
      "[0.08459459620614283 0.06850521854233418\n",
      " 0.06850521854233418 0.05547594264883066],\n",
      "\n",
      "[0.9142140604502765 0.573152408940862\n",
      " 0.573152408940862 0.9437349886346289])\n",
      " 98.060194 seconds (2.33 G allocations: 35.661 GB, 7.59% gc time)\n"
     ]
    }
   ],
   "source": [
    "# additive genetic effects (2x2 psd matrices) from bavariate trait analysis;\n",
    "Σa = Array{Matrix{Float64}}(13, 13)\n",
    "# environmental effects (2x2 psd matrices) from bavariate trait analysis;\n",
    "Σe = Array{Matrix{Float64}}(13, 13)\n",
    "\n",
    "@time for i in 1:13\n",
    "    for j in (i+1):13\n",
    "        println(names(cg10k_trait)[i + 2], names(cg10k_trait)[j + 2])\n",
    "        # form data set for (trait1, trait2)\n",
    "        traitij_data = TwoVarCompVariateRotate(cg10kdata_rotated.Yrot[:, [i;j]], cg10kdata_rotated.Xrot, \n",
    "            cg10kdata_rotated.eigval, cg10kdata_rotated.logdetV2)\n",
    "        # initialize model parameters\n",
    "        traitij_model = VarianceComponentModel(traitij_data)\n",
    "        # estimate variance components\n",
    "        mle_fs!(traitij_model, traitij_data; solver=:Ipopt, verbose=false)\n",
    "        Σa[i, j] = traitij_model.Σ[1]\n",
    "        Σe[i, j] = traitij_model.Σ[2]\n",
    "        @show Σa[i, j], Σe[i, j]\n",
    "    end\n",
    "end"
   ]
  },
  {
   "cell_type": "markdown",
   "metadata": {
    "nbpresent": {
     "id": "ab51933f-c121-4af9-8780-010a0a8af39b"
    }
   },
   "source": [
    "## 3-trait analysis\n",
    "\n",
    "Researchers want to jointly analyze traits 5-7. Our strategy is to try both Fisher scoring and MM algorithm with different starting point, and choose the best local optimum. We first form the data set and run Fisher scoring, which yields a final objective value -1.4700991+04."
   ]
  },
  {
   "cell_type": "code",
   "execution_count": 40,
   "metadata": {
    "collapsed": false,
    "nbpresent": {
     "id": "962ea3c5-ece3-4ac8-a2c1-41c53e11e5bb"
    }
   },
   "outputs": [
    {
     "name": "stdout",
     "output_type": "stream",
     "text": [
      "This is Ipopt version 3.12.4, running with linear solver mumps.\n",
      "NOTE: Other linear solvers might be more efficient (see Ipopt documentation).\n",
      "\n",
      "Number of nonzeros in equality constraint Jacobian...:        0\n",
      "Number of nonzeros in inequality constraint Jacobian.:        0\n",
      "Number of nonzeros in Lagrangian Hessian.............:       78\n",
      "\n",
      "Total number of variables............................:       12\n",
      "                     variables with only lower bounds:        0\n",
      "                variables with lower and upper bounds:        0\n",
      "                     variables with only upper bounds:        0\n",
      "Total number of equality constraints.................:        0\n",
      "Total number of inequality constraints...............:        0\n",
      "        inequality constraints with only lower bounds:        0\n",
      "   inequality constraints with lower and upper bounds:        0\n",
      "        inequality constraints with only upper bounds:        0\n",
      "\n",
      "iter    objective    inf_pr   inf_du lg(mu)  ||d||  lg(rg) alpha_du alpha_pr  ls\n",
      "   0  3.0247512e+04 0.00e+00 1.00e+02   0.0 0.00e+00    -  0.00e+00 0.00e+00   0 \n",
      "   5  1.6834796e+04 0.00e+00 4.07e+02 -11.0 3.66e-01    -  1.00e+00 1.00e+00f  1 MaxS\n",
      "  10  1.4744497e+04 0.00e+00 1.12e+02 -11.0 2.45e-01    -  1.00e+00 1.00e+00f  1 MaxS\n",
      "  15  1.4701497e+04 0.00e+00 1.30e+01 -11.0 1.15e-01  -4.5 1.00e+00 1.00e+00f  1 MaxS\n",
      "  20  1.4700992e+04 0.00e+00 6.65e-01 -11.0 1.74e-04  -6.9 1.00e+00 1.00e+00f  1 MaxS\n",
      "  25  1.4700991e+04 0.00e+00 2.77e-02 -11.0 7.36e-06  -9.2 1.00e+00 1.00e+00f  1 MaxS\n",
      "  30  1.4700991e+04 0.00e+00 1.15e-03 -11.0 3.06e-07 -11.6 1.00e+00 1.00e+00f  1 MaxS\n",
      "  35  1.4700991e+04 0.00e+00 4.76e-05 -11.0 1.27e-08 -14.0 1.00e+00 1.00e+00h  1 MaxS\n",
      "  40  1.4700991e+04 0.00e+00 1.97e-06 -11.0 5.26e-10 -16.4 1.00e+00 1.00e+00h  1 MaxSA\n",
      "  45  1.4700991e+04 0.00e+00 8.17e-08 -11.0 2.18e-11 -18.8 1.00e+00 1.00e+00h  1 MaxSA\n",
      "iter    objective    inf_pr   inf_du lg(mu)  ||d||  lg(rg) alpha_du alpha_pr  ls\n",
      "\n",
      "Number of Iterations....: 49\n",
      "\n",
      "                                   (scaled)                 (unscaled)\n",
      "Objective...............:   4.4724330090668150e+02    1.4700991028593420e+04\n",
      "Dual infeasibility......:   6.4551211049368979e-09    2.1218132783605816e-07\n",
      "Constraint violation....:   0.0000000000000000e+00    0.0000000000000000e+00\n",
      "Complementarity.........:   0.0000000000000000e+00    0.0000000000000000e+00\n",
      "Overall NLP error.......:   6.4551211049368979e-09    2.1218132783605816e-07\n",
      "\n",
      "\n",
      "Number of objective function evaluations             = 50\n",
      "Number of objective gradient evaluations             = 50\n",
      "Number of equality constraint evaluations            = 0\n",
      "Number of inequality constraint evaluations          = 0\n",
      "Number of equality constraint Jacobian evaluations   = 0\n",
      "Number of inequality constraint Jacobian evaluations = 0\n",
      "Number of Lagrangian Hessian evaluations             = 49\n",
      "Total CPU secs in IPOPT (w/o function evaluations)   =      0.022\n",
      "Total CPU secs in NLP function evaluations           =      3.613\n",
      "\n",
      "EXIT: Optimal Solution Found.\n",
      "  3.714206 seconds (93.11 M allocations: 1.410 GB, 7.39% gc time)\n"
     ]
    },
    {
     "data": {
      "text/plain": [
       "VarianceComponentModels.VarianceComponentModel{Float64,2,Array{Float64,2},Array{Float64,2}}(0x3 Array{Float64,2},(\n",
       "3x3 Array{Float64,2}:\n",
       " 0.281163  0.280014  0.232384\n",
       " 0.280014  0.284899  0.220285\n",
       " 0.232384  0.220285  0.212687,\n",
       "\n",
       "3x3 Array{Float64,2}:\n",
       " 0.716875  0.66125   0.674025\n",
       " 0.66125   0.714602  0.581433\n",
       " 0.674025  0.581433  0.784324),0x0 Array{Float64,2},Char[],Float64[],-Inf,Inf)"
      ]
     },
     "execution_count": 40,
     "metadata": {},
     "output_type": "execute_result"
    }
   ],
   "source": [
    "traitidx = 5:7\n",
    "# form data set\n",
    "trait57_data = TwoVarCompVariateRotate(cg10kdata_rotated.Yrot[:, traitidx], cg10kdata_rotated.Xrot, \n",
    "    cg10kdata_rotated.eigval, cg10kdata_rotated.logdetV2)\n",
    "# initialize model parameters\n",
    "trait57_model = VarianceComponentModel(trait57_data)\n",
    "# estimate variance components\n",
    "@time mle_fs!(trait57_model, trait57_data; solver=:Ipopt, verbose=true)\n",
    "trait57_model"
   ]
  },
  {
   "cell_type": "markdown",
   "metadata": {
    "nbpresent": {
     "id": "1c3305d7-93f1-4e7a-a80a-46c7c797b487"
    }
   },
   "source": [
    "We then run the MM algorithm, starting from the Fisher scoring answer. MM finds an improved solution with objective value 8.955397e+03."
   ]
  },
  {
   "cell_type": "code",
   "execution_count": 42,
   "metadata": {
    "collapsed": false,
    "nbpresent": {
     "id": "4888b490-e858-45fd-8bd5-84daf6ad58d9"
    }
   },
   "outputs": [
    {
     "name": "stdout",
     "output_type": "stream",
     "text": [
      "\n",
      "     MM Algorithm\n",
      "  Iter      Objective  \n",
      "--------  -------------\n",
      "       0  -1.470099e+04\n",
      "       1  -1.470099e+04\n",
      "\n",
      "  0.083887 seconds (2.06 M allocations: 35.243 MB, 5.32% gc time)\n"
     ]
    },
    {
     "data": {
      "text/plain": [
       "VarianceComponentModels.VarianceComponentModel{Float64,2,Array{Float64,2},Array{Float64,2}}(0x3 Array{Float64,2},(\n",
       "3x3 Array{Float64,2}:\n",
       " 0.281163  0.280014  0.232384\n",
       " 0.280014  0.284899  0.220285\n",
       " 0.232384  0.220285  0.212687,\n",
       "\n",
       "3x3 Array{Float64,2}:\n",
       " 0.716875  0.66125   0.674025\n",
       " 0.66125   0.714602  0.581433\n",
       " 0.674025  0.581433  0.784324),0x0 Array{Float64,2},Char[],Float64[],-Inf,Inf)"
      ]
     },
     "execution_count": 42,
     "metadata": {},
     "output_type": "execute_result"
    }
   ],
   "source": [
    "# trait59_model contains the fitted model by Fisher scoring now\n",
    "@time mle_mm!(trait57_model, trait57_data; verbose=true)\n",
    "trait57_model"
   ]
  },
  {
   "cell_type": "markdown",
   "metadata": {
    "nbpresent": {
     "id": "2c5b6af1-335c-4b4c-813b-0317cd58b737"
    }
   },
   "source": [
    "Do another run of MM algorithm from default starting point. It leads to a slightly better local optimum -1.470104e+04, slighly worse than the Fisher scoring result. Follow up anlaysis should use the Fisher scoring result."
   ]
  },
  {
   "cell_type": "code",
   "execution_count": 43,
   "metadata": {
    "collapsed": false,
    "nbpresent": {
     "id": "4db52c99-4abd-4a9e-bfa9-229f3014a12d"
    }
   },
   "outputs": [
    {
     "name": "stdout",
     "output_type": "stream",
     "text": [
      "\n",
      "     MM Algorithm\n",
      "  Iter      Objective  \n",
      "--------  -------------\n",
      "       0  -3.024751e+04\n",
      "       1  -2.040338e+04\n",
      "       2  -1.656127e+04\n",
      "       3  -1.528591e+04\n",
      "       4  -1.491049e+04\n",
      "       5  -1.480699e+04\n",
      "       6  -1.477870e+04\n",
      "       7  -1.477026e+04\n",
      "       8  -1.476696e+04\n",
      "       9  -1.476499e+04\n",
      "      10  -1.476339e+04\n",
      "      20  -1.475040e+04\n",
      "      30  -1.474042e+04\n",
      "      40  -1.473272e+04\n",
      "      50  -1.472677e+04\n",
      "      60  -1.472215e+04\n",
      "      70  -1.471852e+04\n",
      "      80  -1.471565e+04\n",
      "      90  -1.471336e+04\n",
      "     100  -1.471152e+04\n",
      "     110  -1.471002e+04\n",
      "     120  -1.470879e+04\n",
      "     130  -1.470778e+04\n",
      "     140  -1.470694e+04\n",
      "     150  -1.470623e+04\n",
      "     160  -1.470563e+04\n",
      "     170  -1.470513e+04\n",
      "     180  -1.470469e+04\n",
      "     190  -1.470432e+04\n",
      "     200  -1.470400e+04\n",
      "     210  -1.470372e+04\n",
      "     220  -1.470347e+04\n",
      "     230  -1.470326e+04\n",
      "     240  -1.470307e+04\n",
      "     250  -1.470290e+04\n",
      "     260  -1.470275e+04\n",
      "     270  -1.470262e+04\n",
      "     280  -1.470250e+04\n",
      "     290  -1.470239e+04\n",
      "     300  -1.470229e+04\n",
      "     310  -1.470220e+04\n",
      "     320  -1.470213e+04\n",
      "     330  -1.470205e+04\n",
      "     340  -1.470199e+04\n",
      "     350  -1.470193e+04\n",
      "     360  -1.470187e+04\n",
      "     370  -1.470182e+04\n",
      "     380  -1.470177e+04\n",
      "     390  -1.470173e+04\n",
      "     400  -1.470169e+04\n",
      "     410  -1.470165e+04\n",
      "     420  -1.470162e+04\n",
      "     430  -1.470159e+04\n",
      "     440  -1.470156e+04\n",
      "     450  -1.470153e+04\n",
      "     460  -1.470150e+04\n",
      "     470  -1.470148e+04\n",
      "     480  -1.470146e+04\n",
      "     490  -1.470143e+04\n",
      "     500  -1.470141e+04\n",
      "     510  -1.470140e+04\n",
      "     520  -1.470138e+04\n",
      "     530  -1.470136e+04\n",
      "     540  -1.470134e+04\n",
      "     550  -1.470133e+04\n",
      "     560  -1.470132e+04\n",
      "     570  -1.470130e+04\n",
      "     580  -1.470129e+04\n",
      "     590  -1.470128e+04\n",
      "     600  -1.470127e+04\n",
      "     610  -1.470125e+04\n",
      "     620  -1.470124e+04\n",
      "     630  -1.470123e+04\n",
      "     640  -1.470122e+04\n",
      "     650  -1.470122e+04\n",
      "     660  -1.470121e+04\n",
      "     670  -1.470120e+04\n",
      "     680  -1.470119e+04\n",
      "     690  -1.470118e+04\n",
      "     700  -1.470118e+04\n",
      "     710  -1.470117e+04\n",
      "     720  -1.470116e+04\n",
      "     730  -1.470116e+04\n",
      "     740  -1.470115e+04\n",
      "     750  -1.470114e+04\n",
      "     760  -1.470114e+04\n",
      "     770  -1.470113e+04\n",
      "     780  -1.470113e+04\n",
      "     790  -1.470112e+04\n",
      "     800  -1.470112e+04\n",
      "     810  -1.470111e+04\n",
      "     820  -1.470111e+04\n",
      "     830  -1.470111e+04\n",
      "     840  -1.470110e+04\n",
      "     850  -1.470110e+04\n",
      "     860  -1.470109e+04\n",
      "     870  -1.470109e+04\n",
      "     880  -1.470109e+04\n",
      "     890  -1.470108e+04\n",
      "     900  -1.470108e+04\n",
      "     910  -1.470108e+04\n",
      "     920  -1.470108e+04\n",
      "     930  -1.470107e+04\n",
      "     940  -1.470107e+04\n",
      "     950  -1.470107e+04\n",
      "     960  -1.470106e+04\n",
      "     970  -1.470106e+04\n",
      "     980  -1.470106e+04\n",
      "     990  -1.470106e+04\n",
      "    1000  -1.470106e+04\n",
      "    1010  -1.470105e+04\n",
      "    1020  -1.470105e+04\n",
      "    1030  -1.470105e+04\n",
      "    1040  -1.470105e+04\n",
      "    1050  -1.470105e+04\n",
      "    1060  -1.470104e+04\n",
      "    1070  -1.470104e+04\n",
      "    1080  -1.470104e+04\n",
      "    1090  -1.470104e+04\n",
      "    1100  -1.470104e+04\n",
      "    1110  -1.470104e+04\n",
      "\n",
      "  9.687002 seconds (224.30 M allocations: 5.566 GB, 13.29% gc time)\n"
     ]
    },
    {
     "data": {
      "text/plain": [
       "VarianceComponentModels.VarianceComponentModel{Float64,2,Array{Float64,2},Array{Float64,2}}(0x3 Array{Float64,2},(\n",
       "3x3 Array{Float64,2}:\n",
       " 0.281188  0.280032  0.232439\n",
       " 0.280032  0.284979  0.220432\n",
       " 0.232439  0.220432  0.212922,\n",
       "\n",
       "3x3 Array{Float64,2}:\n",
       " 0.71685   0.661232  0.67397 \n",
       " 0.661232  0.71452   0.581287\n",
       " 0.67397   0.581287  0.784092),0x0 Array{Float64,2},Char[],Float64[],-Inf,Inf)"
      ]
     },
     "execution_count": 43,
     "metadata": {},
     "output_type": "execute_result"
    }
   ],
   "source": [
    "# default starting point\n",
    "trait57_model = VarianceComponentModel(trait57_data)\n",
    "@time _, _, _, Σcov, = mle_mm!(trait57_model, trait57_data; verbose=true)\n",
    "trait57_model"
   ]
  },
  {
   "cell_type": "markdown",
   "metadata": {
    "nbpresent": {
     "id": "013d3705-6b26-4fe0-9f3a-78bfb8262d94"
    }
   },
   "source": [
    "Heritability from 3-variate estimate and their standard errors."
   ]
  },
  {
   "cell_type": "code",
   "execution_count": 46,
   "metadata": {
    "collapsed": false,
    "nbpresent": {
     "id": "03b775b3-e558-4660-990a-4fd70f68ab31"
    }
   },
   "outputs": [
    {
     "data": {
      "text/plain": [
       "2x3 Array{Float64,2}:\n",
       " 0.281741   0.285122   0.21356  \n",
       " 0.0778033  0.0773313  0.0841103"
      ]
     },
     "execution_count": 46,
     "metadata": {},
     "output_type": "execute_result"
    }
   ],
   "source": [
    "h, hse = heritability(trait57_model.Σ, Σcov)\n",
    "[h'; hse']"
   ]
  },
  {
   "cell_type": "markdown",
   "metadata": {
    "nbpresent": {
     "id": "6660abb2-e288-45c3-a5cd-dc94f10058c9"
    }
   },
   "source": [
    "## Save analysis results"
   ]
  },
  {
   "cell_type": "code",
   "execution_count": 47,
   "metadata": {
    "collapsed": false,
    "nbpresent": {
     "id": "abf5160e-70cb-45e6-97d4-ce4ec40a8559"
    }
   },
   "outputs": [],
   "source": [
    "#using JLD\n",
    "#@save \"copd.jld\"\n",
    "#whos()"
   ]
  }
 ],
 "metadata": {
  "anaconda-cloud": {},
  "kernelspec": {
   "display_name": "Julia 0.5.0",
   "language": "julia",
   "name": "julia-0.5"
  },
  "language_info": {
   "file_extension": ".jl",
   "mimetype": "application/julia",
   "name": "julia",
   "version": "0.5.0"
  }
 },
 "nbformat": 4,
 "nbformat_minor": 0
}
